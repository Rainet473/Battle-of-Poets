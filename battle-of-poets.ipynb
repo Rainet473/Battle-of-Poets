{
 "cells": [
  {
   "cell_type": "markdown",
   "id": "8cd869cf",
   "metadata": {
    "papermill": {
     "duration": 0.013928,
     "end_time": "2023-07-29T11:23:48.049367",
     "exception": false,
     "start_time": "2023-07-29T11:23:48.035439",
     "status": "completed"
    },
    "tags": []
   },
   "source": [
    "# Battle of Poets\n",
    "\n",
    "### Requirements for running this notebook\n",
    "1. Mentioned modules in the below cell\n",
    "2. [Dataset of Poems](https://www.kaggle.com/datasets/ultrajack/modern-renaissance-poetry)\n",
    "\n",
    "Note that the aim of this notebook is just to understand the implementations used"
   ]
  },
  {
   "cell_type": "code",
   "execution_count": 1,
   "id": "03b22a4d",
   "metadata": {
    "_cell_guid": "b1076dfc-b9ad-4769-8c92-a6c4dae69d19",
    "_uuid": "8f2839f25d086af736a60e9eeb907d3b93b6e0e5",
    "execution": {
     "iopub.execute_input": "2023-07-29T11:23:48.078200Z",
     "iopub.status.busy": "2023-07-29T11:23:48.077764Z",
     "iopub.status.idle": "2023-07-29T11:23:53.944719Z",
     "shell.execute_reply": "2023-07-29T11:23:53.943775Z"
    },
    "papermill": {
     "duration": 5.884247,
     "end_time": "2023-07-29T11:23:53.947507",
     "exception": false,
     "start_time": "2023-07-29T11:23:48.063260",
     "status": "completed"
    },
    "tags": []
   },
   "outputs": [
    {
     "name": "stdout",
     "output_type": "stream",
     "text": [
      "Device available and to be used :  cuda\n"
     ]
    }
   ],
   "source": [
    "import io\n",
    "import math\n",
    "import numpy as np\n",
    "import pandas as pd\n",
    "import os\n",
    "import time\n",
    "import matplotlib.pyplot as plt\n",
    "import torch\n",
    "import random\n",
    "from torch.utils.data import DataLoader, Dataset\n",
    "from transformers import GPT2TokenizerFast, BertTokenizerFast, BartTokenizerFast, RobertaTokenizer\n",
    "from torch.nn import Module, Dropout, Linear, MultiheadAttention, ReLU, LayerNorm, Embedding, Softmax, CrossEntropyLoss, TransformerEncoderLayer, TransformerEncoder, LSTM\n",
    "from tempfile import TemporaryDirectory\n",
    "from torchtext.data.utils import get_tokenizer\n",
    "from torchtext.vocab import build_vocab_from_iterator\n",
    "\n",
    "device = torch.device('cuda' if torch.cuda.is_available() else 'cpu')\n",
    "print(\"Device available and to be used : \", device)"
   ]
  },
  {
   "cell_type": "markdown",
   "id": "e05a823b",
   "metadata": {
    "papermill": {
     "duration": 0.013408,
     "end_time": "2023-07-29T11:23:53.974495",
     "exception": false,
     "start_time": "2023-07-29T11:23:53.961087",
     "status": "completed"
    },
    "tags": []
   },
   "source": [
    "### PreProcessing\n",
    "Here we obtain the poems from the csv and convert it into a tensor of continuous stream of data for training.\n",
    "**NOTE**: We only consider a small amount of data, as it might be possible(as observed from previous experimenation) that the model is not deep enough to understand all of the poems."
   ]
  },
  {
   "cell_type": "code",
   "execution_count": 2,
   "id": "69291354",
   "metadata": {
    "execution": {
     "iopub.execute_input": "2023-07-29T11:23:54.003568Z",
     "iopub.status.busy": "2023-07-29T11:23:54.002935Z",
     "iopub.status.idle": "2023-07-29T11:23:54.038465Z",
     "shell.execute_reply": "2023-07-29T11:23:54.037535Z"
    },
    "papermill": {
     "duration": 0.052622,
     "end_time": "2023-07-29T11:23:54.040878",
     "exception": false,
     "start_time": "2023-07-29T11:23:53.988256",
     "status": "completed"
    },
    "tags": []
   },
   "outputs": [],
   "source": [
    "poem_data = pd.read_csv('/kaggle/input/modern-renaissance-poetry/all.csv')\n",
    "poems = poem_data['content'].tolist()\n",
    "\n",
    "for i in range(len(poems)):\n",
    "    poems[i] = poems[i] + '<|endoftext|>'"
   ]
  },
  {
   "cell_type": "code",
   "execution_count": 3,
   "id": "d88a5723",
   "metadata": {
    "execution": {
     "iopub.execute_input": "2023-07-29T11:23:54.079520Z",
     "iopub.status.busy": "2023-07-29T11:23:54.079189Z",
     "iopub.status.idle": "2023-07-29T11:23:54.086985Z",
     "shell.execute_reply": "2023-07-29T11:23:54.085974Z"
    },
    "papermill": {
     "duration": 0.025027,
     "end_time": "2023-07-29T11:23:54.088922",
     "exception": false,
     "start_time": "2023-07-29T11:23:54.063895",
     "status": "completed"
    },
    "tags": []
   },
   "outputs": [],
   "source": [
    "def find_stats(poem_data):\n",
    "    n = len(poem_data)\n",
    "    max_poem_len, max_tag_len = 0, 0\n",
    "    poem_lengths, tags = np.zeros(n), set()\n",
    "    for i in range(n):\n",
    "        row = poem_data.iloc[i]\n",
    "        poem = row['content'].split()\n",
    "        \n",
    "        ##Add length of each poem to the list to find median\n",
    "        poem_len = len(poem)\n",
    "        poem_lengths[i] = poem_len \n",
    "    \n",
    "    ##Print stats\n",
    "    print(\"Maximum Poem Length = \", poem_lengths[np.argmax(poem_lengths)])\n",
    "    print(\"Median Poem Length = \", round(np.median(poem_lengths), 3))\n",
    "    print(\"Average Poem Length = \", round(np.average(poem_lengths), 3))\n",
    "    print(\"Number of Unique Tags = \", len(tags))\n",
    "    print(\"Total Number of Poems = \", n)\n",
    "    print(\"Number of Poems below 64 words = \", np.sum(poem_lengths<=64))"
   ]
  },
  {
   "cell_type": "markdown",
   "id": "6c98a084",
   "metadata": {
    "papermill": {
     "duration": 0.013529,
     "end_time": "2023-07-29T11:23:54.115879",
     "exception": false,
     "start_time": "2023-07-29T11:23:54.102350",
     "status": "completed"
    },
    "tags": []
   },
   "source": [
    "#### Setting up Tokenizer\n"
   ]
  },
  {
   "cell_type": "code",
   "execution_count": 4,
   "id": "1a2ce458",
   "metadata": {
    "execution": {
     "iopub.execute_input": "2023-07-29T11:23:54.146376Z",
     "iopub.status.busy": "2023-07-29T11:23:54.146040Z",
     "iopub.status.idle": "2023-07-29T11:23:55.797099Z",
     "shell.execute_reply": "2023-07-29T11:23:55.795981Z"
    },
    "papermill": {
     "duration": 1.670362,
     "end_time": "2023-07-29T11:23:55.799623",
     "exception": false,
     "start_time": "2023-07-29T11:23:54.129261",
     "status": "completed"
    },
    "tags": []
   },
   "outputs": [
    {
     "name": "stdout",
     "output_type": "stream",
     "text": [
      "Maximum Poem Length =  4342.0\n",
      "Median Poem Length =  113.0\n",
      "Average Poem Length =  173.391\n",
      "Number of Unique Tags =  0\n",
      "Total Number of Poems =  573\n",
      "Number of Poems below 64 words =  135\n"
     ]
    },
    {
     "data": {
      "application/vnd.jupyter.widget-view+json": {
       "model_id": "da4519eec49c43eeba631fc841f03e3d",
       "version_major": 2,
       "version_minor": 0
      },
      "text/plain": [
       "Downloading (…)olve/main/vocab.json:   0%|          | 0.00/1.04M [00:00<?, ?B/s]"
      ]
     },
     "metadata": {},
     "output_type": "display_data"
    },
    {
     "data": {
      "application/vnd.jupyter.widget-view+json": {
       "model_id": "d75335685aa243b5a75151b6ea9b707f",
       "version_major": 2,
       "version_minor": 0
      },
      "text/plain": [
       "Downloading (…)olve/main/merges.txt:   0%|          | 0.00/456k [00:00<?, ?B/s]"
      ]
     },
     "metadata": {},
     "output_type": "display_data"
    },
    {
     "data": {
      "application/vnd.jupyter.widget-view+json": {
       "model_id": "dfef8733b3664e6eabc3e6622c505857",
       "version_major": 2,
       "version_minor": 0
      },
      "text/plain": [
       "Downloading (…)/main/tokenizer.json:   0%|          | 0.00/1.36M [00:00<?, ?B/s]"
      ]
     },
     "metadata": {},
     "output_type": "display_data"
    },
    {
     "data": {
      "application/vnd.jupyter.widget-view+json": {
       "model_id": "a482ff7e6a1d4211999b6452304b2fc7",
       "version_major": 2,
       "version_minor": 0
      },
      "text/plain": [
       "Downloading (…)lve/main/config.json:   0%|          | 0.00/665 [00:00<?, ?B/s]"
      ]
     },
     "metadata": {},
     "output_type": "display_data"
    },
    {
     "name": "stdout",
     "output_type": "stream",
     "text": [
      "Vocab Size =  50258\n",
      "Pad Token =  <PAD> , Pad Token ID =  50257\n",
      "EOS Token =  <|endoftext|> , EOS Token ID =  50256\n"
     ]
    }
   ],
   "source": [
    "tags = find_stats(poem_data)\n",
    "tokenizer = GPT2TokenizerFast.from_pretrained(\"gpt2\")             ##id can be accessed using tokenizer.pad_token_id\n",
    "\n",
    "##NOTE: Bert Tokenizer automatically attaches a CLS token and a SEP token to the start and end respectively so there is no need to add them explicitly\n",
    "print(\"Vocab Size = \", tokenizer.vocab_size+1)\n",
    "tokenizer.add_special_tokens({'pad_token': '<PAD>'})\n",
    "print(\"Pad Token = \", tokenizer.pad_token, \", Pad Token ID = \", tokenizer.pad_token_id)\n",
    "print(\"EOS Token = \", tokenizer.eos_token, \", EOS Token ID = \", tokenizer.eos_token_id)"
   ]
  },
  {
   "cell_type": "markdown",
   "id": "99ddf4fa",
   "metadata": {
    "papermill": {
     "duration": 0.01405,
     "end_time": "2023-07-29T11:23:55.828502",
     "exception": false,
     "start_time": "2023-07-29T11:23:55.814452",
     "status": "completed"
    },
    "tags": []
   },
   "source": [
    "#### Example"
   ]
  },
  {
   "cell_type": "code",
   "execution_count": 5,
   "id": "0a830932",
   "metadata": {
    "execution": {
     "iopub.execute_input": "2023-07-29T11:23:55.859191Z",
     "iopub.status.busy": "2023-07-29T11:23:55.858283Z",
     "iopub.status.idle": "2023-07-29T11:23:55.876104Z",
     "shell.execute_reply": "2023-07-29T11:23:55.874648Z"
    },
    "papermill": {
     "duration": 0.035394,
     "end_time": "2023-07-29T11:23:55.878133",
     "exception": false,
     "start_time": "2023-07-29T11:23:55.842739",
     "status": "completed"
    },
    "tags": []
   },
   "outputs": [
    {
     "name": "stdout",
     "output_type": "stream",
     "text": [
      "A strife is grown between Virtue and Love,\r\n",
      "While each pretends that Stella must be his:\r\n",
      "Her eyes, her lips, her all, saith Love, do this,\r\n",
      "Since they do wear his badge, most firmly prove.\r\n",
      "But Virtue thus that title doth disprove,\r\n",
      "That Stella (O dear name) that Stella is\r\n",
      "That virtuous soul, sure heir of heavnly bliss;\r\n",
      "Not this fair outside, which our hearts doth move.\r\n",
      "And therefore, though her beauty and her grace\r\n",
      "Be Loves indeed, in Stellas self he may\r\n",
      "By no pretense claim any manner place.\r\n",
      "Well, Love, since this demur our suit doth stay,\r\n",
      "Let Virtue have that Stella's self; yet thus,\r\n",
      "Let Virtue but that body grant to us.<|endoftext|> \n",
      "\n",
      "[32, 39809, 318, 7334, 1022, 39662, 290, 5896, 11, 201, 198, 3633, 1123, 2181, 2412, 326, 45856, 1276, 307, 465, 25, 201, 198, 9360, 2951, 11, 607, 11914, 11, 607, 477, 11, 473, 342, 5896, 11, 466, 428, 11, 201, 198, 6385, 484, 466, 5806, 465, 23009, 11, 749, 14245, 5879, 13, 201, 198, 1537, 39662, 4145, 326, 3670, 288, 849, 15493, 303, 11, 201, 198, 2504, 45856, 357, 46, 13674, 1438, 8, 326, 45856, 318, 201, 198, 2504, 41276, 5848, 11, 1654, 28625, 286, 6002, 77, 306, 30533, 26, 201, 198, 3673, 428, 3148, 2354, 11, 543, 674, 11954, 288, 849, 1445, 13, 201, 198, 1870, 4361, 11, 996, 607, 8737, 290, 607, 11542, 201, 198, 3856, 406, 5241, 5600, 11, 287, 520, 695, 292, 2116, 339, 743, 201, 198, 3886, 645, 2181, 1072, 1624, 597, 5642, 1295, 13, 201, 198, 5779, 11, 5896, 11, 1201, 428, 1357, 333, 674, 6050, 288, 849, 2652, 11, 201, 198, 5756, 39662, 423, 326, 45856, 338, 2116, 26, 1865, 4145, 11, 201, 198, 5756, 39662, 475, 326, 1767, 7264, 284, 514, 13, 50256]\n"
     ]
    }
   ],
   "source": [
    "index = random.randint(0, len(poems)-1)\n",
    "print(poems[index], \"\\n\")\n",
    "print(tokenizer(poems[index])['input_ids'])"
   ]
  },
  {
   "cell_type": "markdown",
   "id": "0548aaef",
   "metadata": {
    "papermill": {
     "duration": 0.014141,
     "end_time": "2023-07-29T11:23:55.906559",
     "exception": false,
     "start_time": "2023-07-29T11:23:55.892418",
     "status": "completed"
    },
    "tags": []
   },
   "source": [
    "#### Creating the Dataset"
   ]
  },
  {
   "cell_type": "code",
   "execution_count": 6,
   "id": "5d0f793c",
   "metadata": {
    "execution": {
     "iopub.execute_input": "2023-07-29T11:23:55.937239Z",
     "iopub.status.busy": "2023-07-29T11:23:55.936396Z",
     "iopub.status.idle": "2023-07-29T11:23:55.942443Z",
     "shell.execute_reply": "2023-07-29T11:23:55.941505Z"
    },
    "papermill": {
     "duration": 0.023675,
     "end_time": "2023-07-29T11:23:55.944553",
     "exception": false,
     "start_time": "2023-07-29T11:23:55.920878",
     "status": "completed"
    },
    "tags": []
   },
   "outputs": [],
   "source": [
    "def get_batch(source: torch.Tensor, i: int):\n",
    "    seq_len = min(bptt, source.shape[1]-i-1)\n",
    "    data = source[:, i:i+seq_len]\n",
    "    target = source[:, i+1:i+1+seq_len].reshape(-1)\n",
    "    return data, target"
   ]
  },
  {
   "cell_type": "code",
   "execution_count": 7,
   "id": "e4899066",
   "metadata": {
    "execution": {
     "iopub.execute_input": "2023-07-29T11:23:55.975286Z",
     "iopub.status.busy": "2023-07-29T11:23:55.974444Z",
     "iopub.status.idle": "2023-07-29T11:23:55.982354Z",
     "shell.execute_reply": "2023-07-29T11:23:55.981416Z"
    },
    "papermill": {
     "duration": 0.025565,
     "end_time": "2023-07-29T11:23:55.984489",
     "exception": false,
     "start_time": "2023-07-29T11:23:55.958924",
     "status": "completed"
    },
    "tags": []
   },
   "outputs": [],
   "source": [
    "class PoemDataset(Dataset):\n",
    "    def __init__(self, X, tokenizer, batch_size):\n",
    "        self.X = []\n",
    "        for i in range(len(X)):\n",
    "            self.X  += tokenizer(X[i], is_split_into_words=False)['input_ids']\n",
    "        \n",
    "        X_len = len(self.X)\n",
    "        seq_len = X_len//batch_size\n",
    "        self.X = self.X[:seq_len*batch_size] ##Truncating to maintain 2D Shape\n",
    "        \n",
    "        self.X = torch.Tensor(self.X).reshape(batch_size, seq_len)\n",
    "        self.shape = self.X.shape\n",
    "    def __getitem__(self, idx):\n",
    "        return self.X[idx].type(torch.IntTensor)\n",
    "    def __len__(self):\n",
    "        return self.shape[0]"
   ]
  },
  {
   "cell_type": "markdown",
   "id": "d1078056",
   "metadata": {
    "papermill": {
     "duration": 0.01419,
     "end_time": "2023-07-29T11:23:56.013524",
     "exception": false,
     "start_time": "2023-07-29T11:23:55.999334",
     "status": "completed"
    },
    "tags": []
   },
   "source": [
    "##### Set up batch size and sequence length"
   ]
  },
  {
   "cell_type": "code",
   "execution_count": 8,
   "id": "19a506eb",
   "metadata": {
    "execution": {
     "iopub.execute_input": "2023-07-29T11:23:56.043869Z",
     "iopub.status.busy": "2023-07-29T11:23:56.043526Z",
     "iopub.status.idle": "2023-07-29T11:23:56.047975Z",
     "shell.execute_reply": "2023-07-29T11:23:56.046989Z"
    },
    "papermill": {
     "duration": 0.022019,
     "end_time": "2023-07-29T11:23:56.050194",
     "exception": false,
     "start_time": "2023-07-29T11:23:56.028175",
     "status": "completed"
    },
    "tags": []
   },
   "outputs": [],
   "source": [
    "batch_size = 32\n",
    "seq_len = 40\n",
    "bptt = seq_len"
   ]
  },
  {
   "cell_type": "code",
   "execution_count": 9,
   "id": "13578ba9",
   "metadata": {
    "execution": {
     "iopub.execute_input": "2023-07-29T11:23:56.080264Z",
     "iopub.status.busy": "2023-07-29T11:23:56.079933Z",
     "iopub.status.idle": "2023-07-29T11:23:56.627138Z",
     "shell.execute_reply": "2023-07-29T11:23:56.626181Z"
    },
    "papermill": {
     "duration": 0.564655,
     "end_time": "2023-07-29T11:23:56.629402",
     "exception": false,
     "start_time": "2023-07-29T11:23:56.064747",
     "status": "completed"
    },
    "tags": []
   },
   "outputs": [
    {
     "name": "stderr",
     "output_type": "stream",
     "text": [
      "Token indices sequence length is longer than the specified maximum sequence length for this model (7726 > 1024). Running this sequence through the model will result in indexing errors\n"
     ]
    },
    {
     "name": "stdout",
     "output_type": "stream",
     "text": [
      "Size of the train dataset with sequence length 40 =  4948\n",
      "Size of the valid dataset with sequence length 40 =  542\n"
     ]
    }
   ],
   "source": [
    "train_dataset = PoemDataset(poems[:500], tokenizer, batch_size)\n",
    "print(f\"Size of the train dataset with sequence length {seq_len} = \", train_dataset.shape[1])\n",
    "\n",
    "valid_dataset = PoemDataset(poems[500:], tokenizer, batch_size)\n",
    "print(f\"Size of the valid dataset with sequence length {seq_len} = \", valid_dataset.shape[1])"
   ]
  },
  {
   "cell_type": "markdown",
   "id": "12d94539",
   "metadata": {
    "papermill": {
     "duration": 0.0143,
     "end_time": "2023-07-29T11:23:56.658469",
     "exception": false,
     "start_time": "2023-07-29T11:23:56.644169",
     "status": "completed"
    },
    "tags": []
   },
   "source": [
    "## LSTM"
   ]
  },
  {
   "cell_type": "code",
   "execution_count": 10,
   "id": "72c7c1e9",
   "metadata": {
    "execution": {
     "iopub.execute_input": "2023-07-29T11:23:56.689357Z",
     "iopub.status.busy": "2023-07-29T11:23:56.688514Z",
     "iopub.status.idle": "2023-07-29T11:23:56.696480Z",
     "shell.execute_reply": "2023-07-29T11:23:56.695582Z"
    },
    "papermill": {
     "duration": 0.025426,
     "end_time": "2023-07-29T11:23:56.698495",
     "exception": false,
     "start_time": "2023-07-29T11:23:56.673069",
     "status": "completed"
    },
    "tags": []
   },
   "outputs": [],
   "source": [
    "class LSTM_model(Module):\n",
    "    def __init__(self, ntoken: int, d_model: int, d_hid: int, nlayers: int, dropout: float = 0.5):\n",
    "        super().__init__()\n",
    "        self.model_type = \"LSTM\"\n",
    "        self.embedding = Embedding(ntoken, d_model, padding_idx = tokenizer.pad_token_id, device = device)\n",
    "        self.d_model = d_model\n",
    "        self.stacked_lstm = LSTM(d_model, d_hid, num_layers = nlayers, batch_first = True, dropout = dropout, device = device)\n",
    "        self.linear2 = Linear(d_hid, ntoken, device = device)\n",
    "        \n",
    "    def forward(self, src: torch.Tensor):\n",
    "        x = src\n",
    "        x = self.embedding(x)\n",
    "        x, _ = self.stacked_lstm(x)\n",
    "        output = self.linear2(x)\n",
    "        return output"
   ]
  },
  {
   "cell_type": "markdown",
   "id": "532c2c6c",
   "metadata": {
    "papermill": {
     "duration": 0.014501,
     "end_time": "2023-07-29T11:23:56.727397",
     "exception": false,
     "start_time": "2023-07-29T11:23:56.712896",
     "status": "completed"
    },
    "tags": []
   },
   "source": [
    "#### Initializing Hyperparameters\n",
    "These will be used in both LSTM and Transformer"
   ]
  },
  {
   "cell_type": "code",
   "execution_count": 11,
   "id": "e6a9359f",
   "metadata": {
    "execution": {
     "iopub.execute_input": "2023-07-29T11:23:56.757946Z",
     "iopub.status.busy": "2023-07-29T11:23:56.757130Z",
     "iopub.status.idle": "2023-07-29T11:23:56.762100Z",
     "shell.execute_reply": "2023-07-29T11:23:56.761194Z"
    },
    "papermill": {
     "duration": 0.022449,
     "end_time": "2023-07-29T11:23:56.764122",
     "exception": false,
     "start_time": "2023-07-29T11:23:56.741673",
     "status": "completed"
    },
    "tags": []
   },
   "outputs": [],
   "source": [
    "ntoken = tokenizer.vocab_size+1 ## +1 because we have also added the PAD Token\n",
    "d_model = 256\n",
    "d_hid = 256\n",
    "nhead = 4\n",
    "nlayers = 3\n",
    "dropout = 0.2"
   ]
  },
  {
   "cell_type": "markdown",
   "id": "5f5b4b4e",
   "metadata": {
    "papermill": {
     "duration": 0.014268,
     "end_time": "2023-07-29T11:23:56.792652",
     "exception": false,
     "start_time": "2023-07-29T11:23:56.778384",
     "status": "completed"
    },
    "tags": []
   },
   "source": [
    "#### Setting up LSTM Model"
   ]
  },
  {
   "cell_type": "code",
   "execution_count": 12,
   "id": "8960aa5f",
   "metadata": {
    "execution": {
     "iopub.execute_input": "2023-07-29T11:23:56.823672Z",
     "iopub.status.busy": "2023-07-29T11:23:56.822823Z",
     "iopub.status.idle": "2023-07-29T11:24:02.085104Z",
     "shell.execute_reply": "2023-07-29T11:24:02.084139Z"
    },
    "papermill": {
     "duration": 5.279981,
     "end_time": "2023-07-29T11:24:02.087400",
     "exception": false,
     "start_time": "2023-07-29T11:23:56.807419",
     "status": "completed"
    },
    "tags": []
   },
   "outputs": [
    {
     "name": "stdout",
     "output_type": "stream",
     "text": [
      "LSTM_model(\n",
      "  (embedding): Embedding(50258, 256, padding_idx=50257)\n",
      "  (stacked_lstm): LSTM(256, 256, num_layers=3, batch_first=True, dropout=0.2)\n",
      "  (linear2): Linear(in_features=256, out_features=50258, bias=True)\n",
      ")\n",
      "\n",
      "Total number of parameters in LSTM =  27361362\n"
     ]
    }
   ],
   "source": [
    "lstm_model = LSTM_model(ntoken, d_model, d_hid, nlayers, dropout=dropout)\n",
    "lstm_loss_history = {'training_loss': [], \n",
    "                     'valid_loss': []}\n",
    "\n",
    "lstm_total_epochs = 0\n",
    "print(lstm_model)\n",
    "\n",
    "##Print Total Parameters\n",
    "total_params = sum(p.numel() for p in lstm_model.parameters() if p.requires_grad)\n",
    "print(\"\\nTotal number of parameters in LSTM = \", total_params)"
   ]
  },
  {
   "cell_type": "markdown",
   "id": "b647fe67",
   "metadata": {
    "papermill": {
     "duration": 0.014691,
     "end_time": "2023-07-29T11:24:02.117164",
     "exception": false,
     "start_time": "2023-07-29T11:24:02.102473",
     "status": "completed"
    },
    "tags": []
   },
   "source": [
    "##### Setting up Optimizer and Scheduler\n",
    "The Scheduler decays the learning rate by 5% after each epoch"
   ]
  },
  {
   "cell_type": "code",
   "execution_count": 13,
   "id": "f3290f24",
   "metadata": {
    "execution": {
     "iopub.execute_input": "2023-07-29T11:24:02.148863Z",
     "iopub.status.busy": "2023-07-29T11:24:02.147943Z",
     "iopub.status.idle": "2023-07-29T11:24:02.153766Z",
     "shell.execute_reply": "2023-07-29T11:24:02.152695Z"
    },
    "papermill": {
     "duration": 0.023892,
     "end_time": "2023-07-29T11:24:02.155773",
     "exception": false,
     "start_time": "2023-07-29T11:24:02.131881",
     "status": "completed"
    },
    "tags": []
   },
   "outputs": [],
   "source": [
    "lstm_criterion = CrossEntropyLoss()\n",
    "lr = 0.001\n",
    "lstm_optimizer = torch.optim.Adam(lstm_model.parameters(), lr= lr)\n",
    "lstm_scheduler = torch.optim.lr_scheduler.StepLR(lstm_optimizer, step_size = 1, gamma = 0.95)"
   ]
  },
  {
   "cell_type": "markdown",
   "id": "948296ec",
   "metadata": {
    "papermill": {
     "duration": 0.016123,
     "end_time": "2023-07-29T11:24:02.186782",
     "exception": false,
     "start_time": "2023-07-29T11:24:02.170659",
     "status": "completed"
    },
    "tags": []
   },
   "source": [
    "#### Function to calculate Valid Loss"
   ]
  },
  {
   "cell_type": "code",
   "execution_count": 14,
   "id": "a1a121aa",
   "metadata": {
    "execution": {
     "iopub.execute_input": "2023-07-29T11:24:02.218848Z",
     "iopub.status.busy": "2023-07-29T11:24:02.217930Z",
     "iopub.status.idle": "2023-07-29T11:24:02.227106Z",
     "shell.execute_reply": "2023-07-29T11:24:02.226118Z"
    },
    "papermill": {
     "duration": 0.027583,
     "end_time": "2023-07-29T11:24:02.229262",
     "exception": false,
     "start_time": "2023-07-29T11:24:02.201679",
     "status": "completed"
    },
    "tags": []
   },
   "outputs": [],
   "source": [
    "def valid_loss(model, valid_dataset, criterion):\n",
    "    start = time.time()\n",
    "    total_loss, m_valid = 0, 0\n",
    "    stride = 7\n",
    "    with torch.no_grad():\n",
    "        for i in range(0, valid_dataset.shape[1]-seq_len, seq_len):\n",
    "            X, Y = get_batch(valid_dataset, i)\n",
    "            #if X.shape[1]==0:\n",
    "                \n",
    "            X = X.to(device)\n",
    "            mask = None\n",
    "            if model.model_type=='Transformer':\n",
    "                mask = model.generate_square_subsequent_mask(X.size(1)).to(device)\n",
    "                output = model(X, mask)\n",
    "            else:\n",
    "                #print(X.shape)\n",
    "                output = model(X)\n",
    "                \n",
    "            output_flat = output.view(-1, ntoken)\n",
    "            Y = Y.type(torch.LongTensor).to(device)\n",
    "            loss = criterion(output_flat, Y)\n",
    "            total_loss += loss.item()\n",
    "            m_valid += 1\n",
    "    return total_loss/m_valid"
   ]
  },
  {
   "cell_type": "markdown",
   "id": "e82866f7",
   "metadata": {
    "papermill": {
     "duration": 0.014378,
     "end_time": "2023-07-29T11:24:02.258430",
     "exception": false,
     "start_time": "2023-07-29T11:24:02.244052",
     "status": "completed"
    },
    "tags": []
   },
   "source": [
    "#### Function to Train the models"
   ]
  },
  {
   "cell_type": "code",
   "execution_count": 15,
   "id": "6ba29f0e",
   "metadata": {
    "execution": {
     "iopub.execute_input": "2023-07-29T11:24:02.290679Z",
     "iopub.status.busy": "2023-07-29T11:24:02.290354Z",
     "iopub.status.idle": "2023-07-29T11:24:02.302685Z",
     "shell.execute_reply": "2023-07-29T11:24:02.301605Z"
    },
    "papermill": {
     "duration": 0.03163,
     "end_time": "2023-07-29T11:24:02.305095",
     "exception": false,
     "start_time": "2023-07-29T11:24:02.273465",
     "status": "completed"
    },
    "tags": []
   },
   "outputs": [],
   "source": [
    "def train(model, optimizer, scheduler, criterion, train_dataset, valid_dataset, epochs = 5, total_epochs = 0, loss_history = []):\n",
    "    model.train()  ##Sets the model to train mode\n",
    "    total_loss = 0\n",
    "    start_time = time.time()\n",
    "    stride = 10\n",
    "    num_batches = (train_dataset.shape[1]-seq_len+1)//stride    #train_dataset.shape[1]//bptt\n",
    "    log_interval = num_batches//2\n",
    "    batch = 0\n",
    "    loss_valid = 0\n",
    "    for epoch in range(epochs):\n",
    "        for i in range(0, train_dataset.shape[1], stride):\n",
    "            X_train_batch, Y_train_batch = get_batch(train_dataset, i)\n",
    "            X_train_batch = X_train_batch.to(device)\n",
    "            mask = None\n",
    "            optimizer.zero_grad()\n",
    "            if model.model_type=='Transformer':\n",
    "                mask = model.generate_square_subsequent_mask(X_train_batch.size(1)).to(device)\n",
    "                output = model(X_train_batch, mask)\n",
    "            else:\n",
    "                output = model(X_train_batch)\n",
    "                \n",
    "            output_flat = output.view(-1, ntoken)\n",
    "            \n",
    "            Y_train_batch = Y_train_batch.type(torch.LongTensor).to(device)\n",
    "            loss = criterion(output_flat, Y_train_batch)\n",
    "            loss.backward()\n",
    "            #torch.nn.utils.clip_grad_norm_(parameters_list, 0.5)\n",
    "            optimizer.step()\n",
    "            \n",
    "            total_loss += loss.item()\n",
    "            batch = batch+1\n",
    "            if batch%log_interval==0 and batch>0:\n",
    "                ms_per_batch = (time.time()-start_time) * 1000 / log_interval\n",
    "                cur_loss = total_loss / log_interval\n",
    "                ppl = math.exp(cur_loss)\n",
    "                model.eval()\n",
    "                loss_valid = valid_loss(model, valid_dataset, criterion)\n",
    "                model.train()\n",
    "                print(f'| epoch {epoch:3d} | {batch:5d}/{num_batches:5d} batches | '\n",
    "                  f'ms/batch {ms_per_batch:5.2f} | '\n",
    "                  f'loss {cur_loss:5.8f} | ppl {ppl:8.5f} | valid_loss {loss_valid:5.8f}')\n",
    "                total_loss = 0\n",
    "                start_time = time.time()\n",
    "            batch = batch%num_batches\n",
    "        loss_history['training_loss'].append(cur_loss)\n",
    "        total_epochs+=1        \n",
    "        scheduler.step()\n",
    "        loss_history['valid_loss'].append(loss_valid)\n",
    "        \n",
    "    model.eval()\n",
    "    return loss_history, total_epochs"
   ]
  },
  {
   "cell_type": "code",
   "execution_count": 16,
   "id": "3b01fb0d",
   "metadata": {
    "execution": {
     "iopub.execute_input": "2023-07-29T11:24:02.335873Z",
     "iopub.status.busy": "2023-07-29T11:24:02.335576Z",
     "iopub.status.idle": "2023-07-29T11:24:02.342003Z",
     "shell.execute_reply": "2023-07-29T11:24:02.340584Z"
    },
    "papermill": {
     "duration": 0.024939,
     "end_time": "2023-07-29T11:24:02.344486",
     "exception": false,
     "start_time": "2023-07-29T11:24:02.319547",
     "status": "completed"
    },
    "tags": []
   },
   "outputs": [],
   "source": [
    "def plot(total_history, total_epochs):\n",
    "    plt.clf()\n",
    "    epochs = list(range(1, total_epochs+1))\n",
    "    plt.plot(epochs, total_history['training_loss'], 'b', label = 'Training Loss')\n",
    "    plt.plot(epochs, total_history['valid_loss'], 'r', label = 'Valid Loss')\n",
    "    plt.legend()\n",
    "    plt.title(\"Learning Curve\")\n",
    "    plt.xlabel('Epochs')\n",
    "    plt.ylabel('Loss')\n",
    "    plt.show()"
   ]
  },
  {
   "cell_type": "code",
   "execution_count": 17,
   "id": "010ad041",
   "metadata": {
    "execution": {
     "iopub.execute_input": "2023-07-29T11:24:02.376244Z",
     "iopub.status.busy": "2023-07-29T11:24:02.375452Z",
     "iopub.status.idle": "2023-07-29T11:28:15.727651Z",
     "shell.execute_reply": "2023-07-29T11:28:15.726553Z"
    },
    "papermill": {
     "duration": 253.37062,
     "end_time": "2023-07-29T11:28:15.730167",
     "exception": false,
     "start_time": "2023-07-29T11:24:02.359547",
     "status": "completed"
    },
    "tags": []
   },
   "outputs": [
    {
     "name": "stdout",
     "output_type": "stream",
     "text": [
      "| epoch   0 |   245/  490 batches | ms/batch 35.77 | loss 6.88073285 | ppl 973.33941 | valid_loss 6.85563517\n",
      "| epoch   0 |   490/  490 batches | ms/batch 33.56 | loss 6.58621514 | ppl 725.03153 | valid_loss 6.78230612\n",
      "| epoch   1 |   245/  490 batches | ms/batch 33.33 | loss 6.15959033 | ppl 473.23417 | valid_loss 6.37183707\n",
      "| epoch   1 |   490/  490 batches | ms/batch 33.59 | loss 5.84543563 | ppl 345.65309 | valid_loss 5.92842784\n",
      "| epoch   2 |   245/  490 batches | ms/batch 33.38 | loss 5.43957523 | ppl 230.34432 | valid_loss 5.69351508\n",
      "| epoch   2 |   490/  490 batches | ms/batch 33.54 | loss 5.27871214 | ppl 196.11714 | valid_loss 5.62918663\n",
      "| epoch   3 |   245/  490 batches | ms/batch 33.38 | loss 5.05187409 | ppl 156.31514 | valid_loss 5.50483410\n",
      "| epoch   3 |   490/  490 batches | ms/batch 33.57 | loss 4.94730102 | ppl 140.79445 | valid_loss 5.53102842\n",
      "| epoch   4 |   245/  490 batches | ms/batch 33.38 | loss 4.78852114 | ppl 120.12359 | valid_loss 5.43917076\n",
      "| epoch   4 |   490/  490 batches | ms/batch 33.59 | loss 4.68746316 | ppl 108.57739 | valid_loss 5.51999822\n",
      "| epoch   5 |   245/  490 batches | ms/batch 33.38 | loss 4.54802928 | ppl 94.44610 | valid_loss 5.40235160\n",
      "| epoch   5 |   490/  490 batches | ms/batch 33.52 | loss 4.45433450 | ppl 85.99890 | valid_loss 5.50400107\n",
      "| epoch   6 |   245/  490 batches | ms/batch 33.44 | loss 4.32860467 | ppl 75.83839 | valid_loss 5.40533022\n",
      "| epoch   6 |   490/  490 batches | ms/batch 33.55 | loss 4.24438276 | ppl 69.71272 | valid_loss 5.51404289\n",
      "| epoch   7 |   245/  490 batches | ms/batch 33.35 | loss 4.13311430 | ppl 62.37187 | valid_loss 5.45687624\n",
      "| epoch   7 |   490/  490 batches | ms/batch 33.57 | loss 4.05733232 | ppl 57.81986 | valid_loss 5.53179363\n",
      "| epoch   8 |   245/  490 batches | ms/batch 33.39 | loss 3.96199236 | ppl 52.56194 | valid_loss 5.53068154\n",
      "| epoch   8 |   490/  490 batches | ms/batch 33.56 | loss 3.89023757 | ppl 48.92251 | valid_loss 5.60110173\n",
      "| epoch   9 |   245/  490 batches | ms/batch 33.41 | loss 3.80585607 | ppl 44.96373 | valid_loss 5.57806943\n",
      "| epoch   9 |   490/  490 batches | ms/batch 33.60 | loss 3.73739438 | ppl 41.98844 | valid_loss 5.65054864\n",
      "| epoch  10 |   245/  490 batches | ms/batch 33.39 | loss 3.66877163 | ppl 39.20372 | valid_loss 5.62284506\n",
      "| epoch  10 |   490/  490 batches | ms/batch 33.57 | loss 3.58994339 | ppl 36.23202 | valid_loss 5.69584164\n",
      "| epoch  11 |   245/  490 batches | ms/batch 33.37 | loss 3.54471326 | ppl 34.62975 | valid_loss 5.68868116\n",
      "| epoch  11 |   490/  490 batches | ms/batch 33.59 | loss 3.46217241 | ppl 31.88617 | valid_loss 5.75357015\n",
      "| epoch  12 |   245/  490 batches | ms/batch 33.38 | loss 3.42266886 | ppl 30.65111 | valid_loss 5.72248562\n",
      "| epoch  12 |   490/  490 batches | ms/batch 33.55 | loss 3.34647604 | ppl 28.40247 | valid_loss 5.78649528\n",
      "| epoch  13 |   245/  490 batches | ms/batch 33.42 | loss 3.31211493 | ppl 27.44310 | valid_loss 5.78023599\n",
      "| epoch  13 |   490/  490 batches | ms/batch 33.61 | loss 3.23011619 | ppl 25.28259 | valid_loss 5.84632481\n",
      "| epoch  14 |   245/  490 batches | ms/batch 33.39 | loss 3.20805195 | ppl 24.73086 | valid_loss 5.84799260\n",
      "| epoch  14 |   490/  490 batches | ms/batch 33.58 | loss 3.13304730 | ppl 22.94379 | valid_loss 5.92257690\n"
     ]
    }
   ],
   "source": [
    "epochs = 15\n",
    "lstm_loss_history, lstm_total_epochs = train(lstm_model, lstm_optimizer, lstm_scheduler, lstm_criterion, train_dataset, valid_dataset,\n",
    "                                             epochs = epochs, total_epochs = lstm_total_epochs, loss_history = lstm_loss_history)"
   ]
  },
  {
   "cell_type": "code",
   "execution_count": 18,
   "id": "ef45172c",
   "metadata": {
    "execution": {
     "iopub.execute_input": "2023-07-29T11:28:15.765761Z",
     "iopub.status.busy": "2023-07-29T11:28:15.765435Z",
     "iopub.status.idle": "2023-07-29T11:28:16.088846Z",
     "shell.execute_reply": "2023-07-29T11:28:16.087934Z"
    },
    "papermill": {
     "duration": 0.34359,
     "end_time": "2023-07-29T11:28:16.090841",
     "exception": false,
     "start_time": "2023-07-29T11:28:15.747251",
     "status": "completed"
    },
    "tags": []
   },
   "outputs": [
    {
     "data": {
      "image/png": "[encoded data removed]",
      "text/plain": [
       "<Figure size 640x480 with 1 Axes>"
      ]
     },
     "metadata": {},
     "output_type": "display_data"
    }
   ],
   "source": [
    "plot(lstm_loss_history, lstm_total_epochs)"
   ]
  },
  {
   "cell_type": "markdown",
   "id": "2137490f",
   "metadata": {
    "papermill": {
     "duration": 0.017221,
     "end_time": "2023-07-29T11:28:16.125572",
     "exception": false,
     "start_time": "2023-07-29T11:28:16.108351",
     "status": "completed"
    },
    "tags": []
   },
   "source": [
    "##### Saving the Model"
   ]
  },
  {
   "cell_type": "code",
   "execution_count": 19,
   "id": "24d4f299",
   "metadata": {
    "execution": {
     "iopub.execute_input": "2023-07-29T11:28:16.161985Z",
     "iopub.status.busy": "2023-07-29T11:28:16.161622Z",
     "iopub.status.idle": "2023-07-29T11:28:16.796025Z",
     "shell.execute_reply": "2023-07-29T11:28:16.795012Z"
    },
    "papermill": {
     "duration": 0.655376,
     "end_time": "2023-07-29T11:28:16.798643",
     "exception": false,
     "start_time": "2023-07-29T11:28:16.143267",
     "status": "completed"
    },
    "tags": []
   },
   "outputs": [],
   "source": [
    "torch.save({'model_state_dict': lstm_model.state_dict(),\n",
    "            'epoch': lstm_total_epochs,\n",
    "            'optimizer_state_dict': lstm_optimizer.state_dict(),\n",
    "            'loss_history': lstm_loss_history,\n",
    "            'scheduler_state_dict': lstm_scheduler.state_dict()}, '/kaggle/working/lstm_checkpoint.tar')"
   ]
  },
  {
   "cell_type": "markdown",
   "id": "753dbed9",
   "metadata": {
    "papermill": {
     "duration": 0.017347,
     "end_time": "2023-07-29T11:28:16.834153",
     "exception": false,
     "start_time": "2023-07-29T11:28:16.816806",
     "status": "completed"
    },
    "tags": []
   },
   "source": [
    "##### Loading parameters of model trained for 100 epochs\n",
    "These model weights for the LSTM and Transformer are not currently available publicly"
   ]
  },
  {
   "cell_type": "code",
   "execution_count": 20,
   "id": "18a314f8",
   "metadata": {
    "execution": {
     "iopub.execute_input": "2023-07-29T11:28:16.870404Z",
     "iopub.status.busy": "2023-07-29T11:28:16.869848Z",
     "iopub.status.idle": "2023-07-29T11:28:18.972739Z",
     "shell.execute_reply": "2023-07-29T11:28:18.971763Z"
    },
    "papermill": {
     "duration": 2.124049,
     "end_time": "2023-07-29T11:28:18.975440",
     "exception": false,
     "start_time": "2023-07-29T11:28:16.851391",
     "status": "completed"
    },
    "tags": []
   },
   "outputs": [],
   "source": [
    "checkpoint = torch.load('/kaggle/input/model-weights/lstm_checkpoint.tar', map_location = device)\n",
    "\n",
    "lstm_model.load_state_dict(checkpoint['model_state_dict'])\n",
    "lstm_total_epochs = checkpoint['epoch']\n",
    "lstm_optimizer.load_state_dict(checkpoint['optimizer_state_dict'])\n",
    "lstm_loss_history = checkpoint['loss_history']\n",
    "lstm_scheduler.load_state_dict(checkpoint['scheduler_state_dict'])"
   ]
  },
  {
   "cell_type": "code",
   "execution_count": 21,
   "id": "f32382f1",
   "metadata": {
    "execution": {
     "iopub.execute_input": "2023-07-29T11:28:19.013355Z",
     "iopub.status.busy": "2023-07-29T11:28:19.012424Z",
     "iopub.status.idle": "2023-07-29T11:28:19.290746Z",
     "shell.execute_reply": "2023-07-29T11:28:19.289854Z"
    },
    "papermill": {
     "duration": 0.298861,
     "end_time": "2023-07-29T11:28:19.292793",
     "exception": false,
     "start_time": "2023-07-29T11:28:18.993932",
     "status": "completed"
    },
    "tags": []
   },
   "outputs": [
    {
     "data": {
      "image/png": "[encoded data removed]",
      "text/plain": [
       "<Figure size 640x480 with 1 Axes>"
      ]
     },
     "metadata": {},
     "output_type": "display_data"
    }
   ],
   "source": [
    "plot(lstm_loss_history, lstm_total_epochs)"
   ]
  },
  {
   "cell_type": "markdown",
   "id": "e9df9880",
   "metadata": {
    "papermill": {
     "duration": 0.017647,
     "end_time": "2023-07-29T11:28:19.328581",
     "exception": false,
     "start_time": "2023-07-29T11:28:19.310934",
     "status": "completed"
    },
    "tags": []
   },
   "source": [
    "Note that the validation loss decreases initially and then increases and settles at a point. The main reason may be due to overfitting in the training set. This overfitting may be due to insufficient amount of diversity in the poems of the training set. There also might be newer words in the validation set and with different themes and meanings. There could also be other reasons but after several introspections, this seemed the plausible explanation"
   ]
  },
  {
   "cell_type": "markdown",
   "id": "a7d49f9b",
   "metadata": {
    "papermill": {
     "duration": 0.018176,
     "end_time": "2023-07-29T11:28:19.365423",
     "exception": false,
     "start_time": "2023-07-29T11:28:19.347247",
     "status": "completed"
    },
    "tags": []
   },
   "source": [
    "## Transformer"
   ]
  },
  {
   "cell_type": "markdown",
   "id": "55a27022",
   "metadata": {
    "papermill": {
     "duration": 0.0202,
     "end_time": "2023-07-29T11:28:19.403805",
     "exception": false,
     "start_time": "2023-07-29T11:28:19.383605",
     "status": "completed"
    },
    "tags": []
   },
   "source": [
    "#### Creating classes to implement the transformer"
   ]
  },
  {
   "cell_type": "code",
   "execution_count": 22,
   "id": "03742f76",
   "metadata": {
    "execution": {
     "iopub.execute_input": "2023-07-29T11:28:19.446495Z",
     "iopub.status.busy": "2023-07-29T11:28:19.446104Z",
     "iopub.status.idle": "2023-07-29T11:28:19.455103Z",
     "shell.execute_reply": "2023-07-29T11:28:19.454035Z"
    },
    "papermill": {
     "duration": 0.034084,
     "end_time": "2023-07-29T11:28:19.457377",
     "exception": false,
     "start_time": "2023-07-29T11:28:19.423293",
     "status": "completed"
    },
    "tags": []
   },
   "outputs": [],
   "source": [
    "class PositionalEncoding(Module):\n",
    "    def __init__(self, d_model: int, dropout: float = 0.1, seq_len: int = 512):\n",
    "        super().__init__()\n",
    "        self.dropout = Dropout(p=dropout)\n",
    "        position = torch.arange(seq_len).unsqueeze(1)\n",
    "        denominator = torch.pow(10000, torch.arange(0, d_model, 2)/d_model).unsqueeze(0)\n",
    "        pe = torch.zeros(1, seq_len, d_model)\n",
    "        pe[0, :, 0::2] = torch.sin(position/denominator)\n",
    "        pe[0, :, 1::2] = torch.cos(position/denominator)\n",
    "        self.register_buffer('pe', pe)\n",
    "        \n",
    "    def forward(self, x: torch.Tensor) -> torch.Tensor:\n",
    "        x = x + self.pe[:, :x.size(1)]\n",
    "        return self.dropout(x)"
   ]
  },
  {
   "cell_type": "code",
   "execution_count": 23,
   "id": "757c0b61",
   "metadata": {
    "execution": {
     "iopub.execute_input": "2023-07-29T11:28:19.499822Z",
     "iopub.status.busy": "2023-07-29T11:28:19.499450Z",
     "iopub.status.idle": "2023-07-29T11:28:19.511398Z",
     "shell.execute_reply": "2023-07-29T11:28:19.510310Z"
    },
    "papermill": {
     "duration": 0.035922,
     "end_time": "2023-07-29T11:28:19.513715",
     "exception": false,
     "start_time": "2023-07-29T11:28:19.477793",
     "status": "completed"
    },
    "tags": []
   },
   "outputs": [],
   "source": [
    "class EncoderLayer(Module):\n",
    "    def __init__(self, d_model: int, nhead: int, dim_feedforward: int = 2048, dropout: float = 0.1, batch_first: bool = True,\n",
    "                 layer_norm_eps: float = 1e-5):\n",
    "        \n",
    "        super().__init__()\n",
    "        self.mha = MultiheadAttention(d_model, nhead, dropout = dropout, batch_first = batch_first)\n",
    "        self.linear1 = Linear(d_model, dim_feedforward)\n",
    "        self.dropout = Dropout(dropout)\n",
    "        self.linear2 = Linear(dim_feedforward, d_model)\n",
    "        self.norm1 = LayerNorm(d_model, eps=layer_norm_eps)\n",
    "        self.norm2 = LayerNorm(d_model, eps=layer_norm_eps)\n",
    "        self.dropout1 = Dropout(dropout)\n",
    "        self.dropout2 = Dropout(dropout)\n",
    "        self.activation = ReLU()\n",
    "        \n",
    "    def forward(self, src: torch.Tensor, src_mask = None):\n",
    "        \n",
    "        x = src\n",
    "        x, _ = self.mha(x, x, x, attn_mask = src_mask)\n",
    "        x = self.dropout(x)\n",
    "        norm1_output = self.norm1(x + src)\n",
    "        \n",
    "        x = self.linear1(norm1_output)\n",
    "        x = self.activation(x)\n",
    "        x = self.dropout(x)\n",
    "        x = self.linear2(x)\n",
    "        x = self.dropout2(x)\n",
    "        norm2_output = self.norm2(x + norm1_output)\n",
    "        \n",
    "        return norm2_output"
   ]
  },
  {
   "cell_type": "code",
   "execution_count": 24,
   "id": "9ad4a9b5",
   "metadata": {
    "execution": {
     "iopub.execute_input": "2023-07-29T11:28:19.555567Z",
     "iopub.status.busy": "2023-07-29T11:28:19.555228Z",
     "iopub.status.idle": "2023-07-29T11:28:19.564392Z",
     "shell.execute_reply": "2023-07-29T11:28:19.563281Z"
    },
    "papermill": {
     "duration": 0.0329,
     "end_time": "2023-07-29T11:28:19.566792",
     "exception": false,
     "start_time": "2023-07-29T11:28:19.533892",
     "status": "completed"
    },
    "tags": []
   },
   "outputs": [],
   "source": [
    "class Encoder(Module):    \n",
    "    ##This encoder will be a bit different from the other encoders as in this implemented LM, we are using only the Encoder\n",
    "    def __init__(self, num_layers: int, d_model: int, nhead: int, dim_feedforward: int = 2048, dropout: float = 0.1,\n",
    "                batch_first: bool = True, layer_norm_eps: float = 1e-5):\n",
    "        \n",
    "        super().__init__()\n",
    "        self.layers = [EncoderLayer(d_model, nhead, dim_feedforward = dim_feedforward, dropout = dropout, batch_first = batch_first,\n",
    "                                   layer_norm_eps = layer_norm_eps) for _ in range(num_layers)]\n",
    "        for layer in self.layers:\n",
    "            layer.to(device)\n",
    "        self.num_layers = num_layers\n",
    "        \n",
    "    def forward(self, src: torch.Tensor, mask = None) -> torch.Tensor:\n",
    "        \n",
    "        output = src\n",
    "        first_layer = self.layers[0]\n",
    "        for mod in self.layers:\n",
    "            output = mod(output, src_mask = mask)  \n",
    "        \n",
    "        return output"
   ]
  },
  {
   "cell_type": "code",
   "execution_count": 25,
   "id": "2d1e94a3",
   "metadata": {
    "execution": {
     "iopub.execute_input": "2023-07-29T11:28:19.610338Z",
     "iopub.status.busy": "2023-07-29T11:28:19.609934Z",
     "iopub.status.idle": "2023-07-29T11:28:19.622077Z",
     "shell.execute_reply": "2023-07-29T11:28:19.621029Z"
    },
    "papermill": {
     "duration": 0.036864,
     "end_time": "2023-07-29T11:28:19.624487",
     "exception": false,
     "start_time": "2023-07-29T11:28:19.587623",
     "status": "completed"
    },
    "tags": []
   },
   "outputs": [],
   "source": [
    "class LanguageModel(Module):\n",
    "    def __init__(self, ntoken: int, d_model: int, nhead: int, nlayers: int, d_hid: int = 2048, dropout: float = 0.5, batch_first: bool = True):\n",
    "        super().__init__()\n",
    "        self.model_type = \"Transformer\"\n",
    "        self.pos_encoder = PositionalEncoding(d_model, dropout)\n",
    "        self.pos_encoder.to(device)\n",
    "        self.transformer_encoder = Encoder(nlayers, d_model, nhead, dim_feedforward = d_hid, dropout = dropout, batch_first = batch_first)\n",
    "        self.transformer_encoder.to(device)\n",
    "        self.embedding = Embedding(ntoken, d_model, padding_idx = tokenizer.pad_token_id)\n",
    "        self.d_model = d_model\n",
    "        self.linear = Linear(d_model, ntoken)\n",
    "        self.activation = Softmax(dim = -1)\n",
    "    \n",
    "    def forward(self, src: torch.Tensor, src_mask = None) -> torch.Tensor:\n",
    "        \n",
    "        src = self.embedding(src)*math.sqrt(self.d_model)\n",
    "        src = self.pos_encoder(src)\n",
    "        output = self.transformer_encoder(src, src_mask)\n",
    "        output = self.linear(output)\n",
    "        \n",
    "        return output\n",
    "\n",
    "    def generate_square_subsequent_mask(self, seq_len):\n",
    "        mask = (torch.triu(torch.ones(seq_len, seq_len)) == 1).transpose(0, 1)\n",
    "        mask = mask.float().masked_fill(mask == 0, float('-inf')).masked_fill(mask == 1, float(0.0))\n",
    "        return mask"
   ]
  },
  {
   "cell_type": "markdown",
   "id": "d419241c",
   "metadata": {
    "papermill": {
     "duration": 0.018232,
     "end_time": "2023-07-29T11:28:19.662501",
     "exception": false,
     "start_time": "2023-07-29T11:28:19.644269",
     "status": "completed"
    },
    "tags": []
   },
   "source": [
    "#### Setting up Transformer Model"
   ]
  },
  {
   "cell_type": "code",
   "execution_count": 26,
   "id": "091a31b1",
   "metadata": {
    "execution": {
     "iopub.execute_input": "2023-07-29T11:28:19.701012Z",
     "iopub.status.busy": "2023-07-29T11:28:19.700639Z",
     "iopub.status.idle": "2023-07-29T11:28:20.042239Z",
     "shell.execute_reply": "2023-07-29T11:28:20.040783Z"
    },
    "papermill": {
     "duration": 0.363457,
     "end_time": "2023-07-29T11:28:20.044406",
     "exception": false,
     "start_time": "2023-07-29T11:28:19.680949",
     "status": "completed"
    },
    "tags": []
   },
   "outputs": [
    {
     "name": "stdout",
     "output_type": "stream",
     "text": [
      "LanguageModel(\n",
      "  (pos_encoder): PositionalEncoding(\n",
      "    (dropout): Dropout(p=0.2, inplace=False)\n",
      "  )\n",
      "  (transformer_encoder): Encoder()\n",
      "  (embedding): Embedding(50258, 256, padding_idx=50257)\n",
      "  (linear): Linear(in_features=256, out_features=50258, bias=True)\n",
      "  (activation): Softmax(dim=-1)\n",
      ")\n",
      "\n",
      "Total Number of Parameters in Transformer Model =  26969682\n"
     ]
    }
   ],
   "source": [
    "transformer_model = LanguageModel(ntoken, d_model, nhead, nlayers, d_hid = d_hid, dropout = dropout, batch_first = True)\n",
    "transformer_model.to(device)\n",
    "for layer in transformer_model.transformer_encoder.layers:\n",
    "    layer.to(device)\n",
    "\n",
    "transformer_total_epochs = 0\n",
    "transformer_loss_history = {'training_loss': [],\n",
    "                'valid_loss': []}\n",
    "print(transformer_model)\n",
    "\n",
    "## Print Total Parameters\n",
    "total_params = sum(p.numel() for p in transformer_model.parameters() if p.requires_grad)\n",
    "for layer in transformer_model.transformer_encoder.layers:\n",
    "    total_params += sum(p.numel() for p in layer.parameters() if p.requires_grad)\n",
    "print(\"\\nTotal Number of Parameters in Transformer Model = \", total_params)"
   ]
  },
  {
   "cell_type": "markdown",
   "id": "19c6f663",
   "metadata": {
    "papermill": {
     "duration": 0.017803,
     "end_time": "2023-07-29T11:28:20.081100",
     "exception": false,
     "start_time": "2023-07-29T11:28:20.063297",
     "status": "completed"
    },
    "tags": []
   },
   "source": [
    "#### Setting up the optimizer and LR scheduler"
   ]
  },
  {
   "cell_type": "code",
   "execution_count": 27,
   "id": "f2028f06",
   "metadata": {
    "execution": {
     "iopub.execute_input": "2023-07-29T11:28:20.118648Z",
     "iopub.status.busy": "2023-07-29T11:28:20.117816Z",
     "iopub.status.idle": "2023-07-29T11:28:20.124854Z",
     "shell.execute_reply": "2023-07-29T11:28:20.123870Z"
    },
    "papermill": {
     "duration": 0.02803,
     "end_time": "2023-07-29T11:28:20.126910",
     "exception": false,
     "start_time": "2023-07-29T11:28:20.098880",
     "status": "completed"
    },
    "tags": []
   },
   "outputs": [],
   "source": [
    "transformer_criterion = CrossEntropyLoss()\n",
    "lr = 0.001\n",
    "\n",
    "parameters_list = list(transformer_model.parameters())\n",
    "for layer in transformer_model.transformer_encoder.layers:\n",
    "    parameters_list+= list(layer.parameters())\n",
    "#parameters_list+= list(transformer_model.transformer_encoder.parameters())\n",
    "\n",
    "transformer_optimizer = torch.optim.Adam(parameters_list, lr = lr)\n",
    "transformer_scheduler = torch.optim.lr_scheduler.StepLR(transformer_optimizer, step_size = 1, gamma = 0.95)"
   ]
  },
  {
   "cell_type": "markdown",
   "id": "64f25c11",
   "metadata": {
    "papermill": {
     "duration": 0.017907,
     "end_time": "2023-07-29T11:28:20.163343",
     "exception": false,
     "start_time": "2023-07-29T11:28:20.145436",
     "status": "completed"
    },
    "tags": []
   },
   "source": [
    "#### Training the Transformer"
   ]
  },
  {
   "cell_type": "code",
   "execution_count": 28,
   "id": "1a424945",
   "metadata": {
    "execution": {
     "iopub.execute_input": "2023-07-29T11:28:20.200206Z",
     "iopub.status.busy": "2023-07-29T11:28:20.199833Z",
     "iopub.status.idle": "2023-07-29T11:32:11.928335Z",
     "shell.execute_reply": "2023-07-29T11:32:11.927368Z"
    },
    "papermill": {
     "duration": 231.749771,
     "end_time": "2023-07-29T11:32:11.930827",
     "exception": false,
     "start_time": "2023-07-29T11:28:20.181056",
     "status": "completed"
    },
    "tags": []
   },
   "outputs": [
    {
     "name": "stdout",
     "output_type": "stream",
     "text": [
      "| epoch   0 |   245/  490 batches | ms/batch 31.08 | loss 5.84388753 | ppl 345.11839 | valid_loss 5.55682439\n",
      "| epoch   0 |   490/  490 batches | ms/batch 30.69 | loss 5.17999547 | ppl 177.68201 | valid_loss 5.33604589\n",
      "| epoch   1 |   245/  490 batches | ms/batch 30.50 | loss 4.56700858 | ppl 96.25574 | valid_loss 5.25039013\n",
      "| epoch   1 |   490/  490 batches | ms/batch 30.80 | loss 4.28610134 | ppl 72.68255 | valid_loss 5.32493716\n",
      "| epoch   2 |   245/  490 batches | ms/batch 30.84 | loss 4.03263220 | ppl 56.40920 | valid_loss 5.35440793\n",
      "| epoch   2 |   490/  490 batches | ms/batch 30.65 | loss 3.81531753 | ppl 45.39117 | valid_loss 5.48186255\n",
      "| epoch   3 |   245/  490 batches | ms/batch 30.49 | loss 3.73418173 | ppl 41.85376 | valid_loss 5.46277343\n",
      "| epoch   3 |   490/  490 batches | ms/batch 30.72 | loss 3.55892423 | ppl 35.12539 | valid_loss 5.55352728\n",
      "| epoch   4 |   245/  490 batches | ms/batch 30.84 | loss 3.55556268 | ppl 35.00751 | valid_loss 5.55780532\n",
      "| epoch   4 |   490/  490 batches | ms/batch 30.73 | loss 3.40114776 | ppl 29.99851 | valid_loss 5.60431873\n",
      "| epoch   5 |   245/  490 batches | ms/batch 30.50 | loss 3.42655936 | ppl 30.77059 | valid_loss 5.58247959\n",
      "| epoch   5 |   490/  490 batches | ms/batch 30.65 | loss 3.27796756 | ppl 26.52181 | valid_loss 5.66609482\n",
      "| epoch   6 |   245/  490 batches | ms/batch 30.83 | loss 3.31247942 | ppl 27.45311 | valid_loss 5.59179849\n",
      "| epoch   6 |   490/  490 batches | ms/batch 30.66 | loss 3.16783609 | ppl 23.75602 | valid_loss 5.70693706\n",
      "| epoch   7 |   245/  490 batches | ms/batch 30.55 | loss 3.21485601 | ppl 24.89971 | valid_loss 5.66567773\n",
      "| epoch   7 |   490/  490 batches | ms/batch 30.61 | loss 3.06610886 | ppl 21.45824 | valid_loss 5.72928315\n",
      "| epoch   8 |   245/  490 batches | ms/batch 30.80 | loss 3.13008687 | ppl 22.87597 | valid_loss 5.66826989\n",
      "| epoch   8 |   490/  490 batches | ms/batch 30.68 | loss 2.97461489 | ppl 19.58208 | valid_loss 5.73849036\n",
      "| epoch   9 |   245/  490 batches | ms/batch 30.50 | loss 3.05838356 | ppl 21.29311 | valid_loss 5.75814203\n",
      "| epoch   9 |   490/  490 batches | ms/batch 30.63 | loss 2.90131953 | ppl 18.19814 | valid_loss 5.80068563\n",
      "| epoch  10 |   245/  490 batches | ms/batch 30.84 | loss 2.99213388 | ppl 19.92816 | valid_loss 5.73165475\n",
      "| epoch  10 |   490/  490 batches | ms/batch 30.68 | loss 2.83963553 | ppl 17.10953 | valid_loss 5.82756560\n",
      "| epoch  11 |   245/  490 batches | ms/batch 30.48 | loss 2.92220984 | ppl 18.58231 | valid_loss 5.76971689\n",
      "| epoch  11 |   490/  490 batches | ms/batch 30.61 | loss 2.78841297 | ppl 16.25520 | valid_loss 5.84514438\n",
      "| epoch  12 |   245/  490 batches | ms/batch 30.55 | loss 2.86654719 | ppl 17.57623 | valid_loss 5.76936304\n",
      "| epoch  12 |   490/  490 batches | ms/batch 30.98 | loss 2.73736883 | ppl 15.44629 | valid_loss 5.84734088\n",
      "| epoch  13 |   245/  490 batches | ms/batch 30.45 | loss 2.81238007 | ppl 16.64950 | valid_loss 5.81473343\n",
      "| epoch  13 |   490/  490 batches | ms/batch 30.59 | loss 2.69058840 | ppl 14.74035 | valid_loss 5.86944422\n",
      "| epoch  14 |   245/  490 batches | ms/batch 30.54 | loss 2.75264794 | ppl 15.68411 | valid_loss 5.81511718\n",
      "| epoch  14 |   490/  490 batches | ms/batch 30.95 | loss 2.64835833 | ppl 14.13082 | valid_loss 5.88245230\n"
     ]
    }
   ],
   "source": [
    "epochs = 15\n",
    "transformer_loss_history, transformer_total_epochs = train(transformer_model, transformer_optimizer, transformer_scheduler,\n",
    "                                                           transformer_criterion, train_dataset, valid_dataset, epochs = epochs,\n",
    "                                                           total_epochs = transformer_total_epochs, loss_history = transformer_loss_history)"
   ]
  },
  {
   "cell_type": "code",
   "execution_count": 29,
   "id": "e31fa6bb",
   "metadata": {
    "execution": {
     "iopub.execute_input": "2023-07-29T11:32:11.973812Z",
     "iopub.status.busy": "2023-07-29T11:32:11.972918Z",
     "iopub.status.idle": "2023-07-29T11:32:12.275680Z",
     "shell.execute_reply": "2023-07-29T11:32:12.274778Z"
    },
    "papermill": {
     "duration": 0.326332,
     "end_time": "2023-07-29T11:32:12.277750",
     "exception": false,
     "start_time": "2023-07-29T11:32:11.951418",
     "status": "completed"
    },
    "tags": []
   },
   "outputs": [
    {
     "data": {
      "image/png": "[encoded data removed]",
      "text/plain": [
       "<Figure size 640x480 with 1 Axes>"
      ]
     },
     "metadata": {},
     "output_type": "display_data"
    }
   ],
   "source": [
    "plot(transformer_loss_history, transformer_total_epochs)"
   ]
  },
  {
   "cell_type": "markdown",
   "id": "beb0e773",
   "metadata": {
    "papermill": {
     "duration": 0.020347,
     "end_time": "2023-07-29T11:32:12.318949",
     "exception": false,
     "start_time": "2023-07-29T11:32:12.298602",
     "status": "completed"
    },
    "tags": []
   },
   "source": [
    "#### Saving the model"
   ]
  },
  {
   "cell_type": "code",
   "execution_count": 30,
   "id": "d1dcccaa",
   "metadata": {
    "execution": {
     "iopub.execute_input": "2023-07-29T11:32:12.362887Z",
     "iopub.status.busy": "2023-07-29T11:32:12.361933Z",
     "iopub.status.idle": "2023-07-29T11:32:13.000545Z",
     "shell.execute_reply": "2023-07-29T11:32:12.999545Z"
    },
    "papermill": {
     "duration": 0.663356,
     "end_time": "2023-07-29T11:32:13.003321",
     "exception": false,
     "start_time": "2023-07-29T11:32:12.339965",
     "status": "completed"
    },
    "tags": []
   },
   "outputs": [],
   "source": [
    "checkpoint = {'model_state_dict': transformer_model.state_dict(),\n",
    "            'epoch': transformer_total_epochs,\n",
    "            'optimizer_state_dict': transformer_optimizer.state_dict(),\n",
    "            'loss_history': transformer_loss_history,\n",
    "            'scheduler_state_dict': transformer_scheduler.state_dict()}\n",
    "for i, layer in enumerate(transformer_model.transformer_encoder.layers):\n",
    "    checkpoint[f'encoder_layer_{i}'] = layer.state_dict()\n",
    "    \n",
    "torch.save(checkpoint, '/kaggle/working/transformer_checkpoint.tar')"
   ]
  },
  {
   "cell_type": "markdown",
   "id": "aa53f3d4",
   "metadata": {
    "papermill": {
     "duration": 0.020307,
     "end_time": "2023-07-29T11:32:13.044620",
     "exception": false,
     "start_time": "2023-07-29T11:32:13.024313",
     "status": "completed"
    },
    "tags": []
   },
   "source": [
    "##### Load the model that was trained for 100 epochs"
   ]
  },
  {
   "cell_type": "code",
   "execution_count": 31,
   "id": "2bfc3e7e",
   "metadata": {
    "execution": {
     "iopub.execute_input": "2023-07-29T11:32:13.087639Z",
     "iopub.status.busy": "2023-07-29T11:32:13.087303Z",
     "iopub.status.idle": "2023-07-29T11:32:15.490112Z",
     "shell.execute_reply": "2023-07-29T11:32:15.489129Z"
    },
    "papermill": {
     "duration": 2.427342,
     "end_time": "2023-07-29T11:32:15.492637",
     "exception": false,
     "start_time": "2023-07-29T11:32:13.065295",
     "status": "completed"
    },
    "tags": []
   },
   "outputs": [],
   "source": [
    "checkpoint = torch.load('/kaggle/input/model-weights/transformer_checkpoint.tar', map_location = device)\n",
    "\n",
    "transformer_model.load_state_dict(checkpoint['model_state_dict'])\n",
    "transformer_total_epochs = checkpoint['epoch']\n",
    "transformer_optimizer.load_state_dict(checkpoint['optimizer_state_dict'])\n",
    "transformer_loss_history = checkpoint['loss_history']\n",
    "transformer_scheduler.load_state_dict(checkpoint['scheduler_state_dict'])\n",
    "for i, layer in enumerate(transformer_model.transformer_encoder.layers):\n",
    "    layer.load_state_dict(checkpoint[f'encoder_layer_{i}'])"
   ]
  },
  {
   "cell_type": "code",
   "execution_count": 32,
   "id": "3ef195e0",
   "metadata": {
    "execution": {
     "iopub.execute_input": "2023-07-29T11:32:15.538829Z",
     "iopub.status.busy": "2023-07-29T11:32:15.538507Z",
     "iopub.status.idle": "2023-07-29T11:32:15.812801Z",
     "shell.execute_reply": "2023-07-29T11:32:15.811887Z"
    },
    "papermill": {
     "duration": 0.298168,
     "end_time": "2023-07-29T11:32:15.814948",
     "exception": false,
     "start_time": "2023-07-29T11:32:15.516780",
     "status": "completed"
    },
    "tags": []
   },
   "outputs": [
    {
     "data": {
      "image/png": "[encoded data removed]",
      "text/plain": [
       "<Figure size 640x480 with 1 Axes>"
      ]
     },
     "metadata": {},
     "output_type": "display_data"
    }
   ],
   "source": [
    "plot(transformer_loss_history, transformer_total_epochs)"
   ]
  },
  {
   "cell_type": "markdown",
   "id": "912b66b3",
   "metadata": {
    "papermill": {
     "duration": 0.02054,
     "end_time": "2023-07-29T11:32:15.856525",
     "exception": false,
     "start_time": "2023-07-29T11:32:15.835985",
     "status": "completed"
    },
    "tags": []
   },
   "source": [
    "We have the same kind of explanation for the Transformer model as well as to why the validation loss has increased"
   ]
  },
  {
   "cell_type": "markdown",
   "id": "83e25451",
   "metadata": {
    "papermill": {
     "duration": 0.020832,
     "end_time": "2023-07-29T11:32:15.898005",
     "exception": false,
     "start_time": "2023-07-29T11:32:15.877173",
     "status": "completed"
    },
    "tags": []
   },
   "source": [
    "#### Sampling\n",
    "Function to sample a poem given initial words. Word limit is currently set to 256, it can be changed as per user's choice.\n"
   ]
  },
  {
   "cell_type": "code",
   "execution_count": 33,
   "id": "7975bb1b",
   "metadata": {
    "execution": {
     "iopub.execute_input": "2023-07-29T11:32:15.940849Z",
     "iopub.status.busy": "2023-07-29T11:32:15.940486Z",
     "iopub.status.idle": "2023-07-29T11:32:15.951642Z",
     "shell.execute_reply": "2023-07-29T11:32:15.950540Z"
    },
    "papermill": {
     "duration": 0.035674,
     "end_time": "2023-07-29T11:32:15.954295",
     "exception": false,
     "start_time": "2023-07-29T11:32:15.918621",
     "status": "completed"
    },
    "tags": []
   },
   "outputs": [],
   "source": [
    "def sample(model, words, n_words = 256):\n",
    "    x = tokenizer(words, is_split_into_words = False)['input_ids']\n",
    "    poem = x[:seq_len]\n",
    "    if len(x)<seq_len:\n",
    "        x += [tokenizer.pad_token_id for _ in range(seq_len-len(x))]\n",
    "    if len(x)>seq_len:\n",
    "        x = x[:seq_len]\n",
    "    \n",
    "    with torch.no_grad():\n",
    "        for i in range(n_words):\n",
    "            output = model(torch.LongTensor(x).unsqueeze(0).to(device))[:, -1, :]\n",
    "            preds = np.asarray(output.cpu()).astype('float64')\n",
    "            exp_preds = np.exp(preds)\n",
    "            preds = (exp_preds / np.sum(exp_preds)).squeeze()\n",
    "            probs = np.random.multinomial(1, preds, 1)\n",
    "            out = np.random.choice(range(ntoken), p = probs.ravel())\n",
    "            if out==tokenizer.eos_token_id:\n",
    "                break\n",
    "            x.append(out)\n",
    "            x = x[1:]\n",
    "            poem.append(out)\n",
    "        print(tokenizer.decode(poem))"
   ]
  },
  {
   "cell_type": "markdown",
   "id": "57da9ccf",
   "metadata": {
    "papermill": {
     "duration": 0.020417,
     "end_time": "2023-07-29T11:32:15.995908",
     "exception": false,
     "start_time": "2023-07-29T11:32:15.975491",
     "status": "completed"
    },
    "tags": []
   },
   "source": [
    "##### Sample using LSTM Model"
   ]
  },
  {
   "cell_type": "code",
   "execution_count": 34,
   "id": "8de8c8f2",
   "metadata": {
    "execution": {
     "iopub.execute_input": "2023-07-29T11:32:16.038670Z",
     "iopub.status.busy": "2023-07-29T11:32:16.038355Z",
     "iopub.status.idle": "2023-07-29T11:32:25.332400Z",
     "shell.execute_reply": "2023-07-29T11:32:25.330031Z"
    },
    "papermill": {
     "duration": 9.318057,
     "end_time": "2023-07-29T11:32:25.334591",
     "exception": false,
     "start_time": "2023-07-29T11:32:16.016534",
     "status": "completed"
    },
    "tags": []
   },
   "outputs": [
    {
     "name": "stderr",
     "output_type": "stream",
     "text": [
      "/opt/conda/lib/python3.10/site-packages/tensorflow_io/python/ops/__init__.py:98: UserWarning: unable to load libtensorflow_io_plugins.so: unable to open file: libtensorflow_io_plugins.so, from paths: ['/opt/conda/lib/python3.10/site-packages/tensorflow_io/python/ops/libtensorflow_io_plugins.so']\n",
      "caused by: ['/opt/conda/lib/python3.10/site-packages/tensorflow_io/python/ops/libtensorflow_io_plugins.so: undefined symbol: _ZN3tsl6StatusC1EN10tensorflow5error4CodeESt17basic_string_viewIcSt11char_traitsIcEENS_14SourceLocationE']\n",
      "  warnings.warn(f\"unable to load libtensorflow_io_plugins.so: {e}\")\n",
      "/opt/conda/lib/python3.10/site-packages/tensorflow_io/python/ops/__init__.py:104: UserWarning: file system plugins are not loaded: unable to open file: libtensorflow_io.so, from paths: ['/opt/conda/lib/python3.10/site-packages/tensorflow_io/python/ops/libtensorflow_io.so']\n",
      "caused by: ['/opt/conda/lib/python3.10/site-packages/tensorflow_io/python/ops/libtensorflow_io.so: undefined symbol: _ZTVN10tensorflow13GcsFileSystemE']\n",
      "  warnings.warn(f\"file system plugins are not loaded: {e}\")\n"
     ]
    },
    {
     "name": "stdout",
     "output_type": "stream",
     "text": [
      "Far west, beyond the ocean, there is a land,\r\n",
      "His prealteus doe Ant seedly seed;\r\n",
      "\r\n",
      "But that I grieve to find my truth their eyes\r\n",
      "My love were I have dead,\r\n",
      "Stella amate the bareeing well;\r\n",
      "    Theyly death's Cynthia one and blide,\r\n",
      "         We loved out, and Adam's glory, a thraw, \r\n",
      "Is an entangledoure, utterlyitors,\r\n",
      "Or not it, by that once take Cblen Tied thine how time with my feeble self,\r\n",
      "Gast or call thing to my bed,\r\n",
      "And some us drift of dust again;\r\n",
      "She sits to thieves in black stands else to nature hell deeds.\r\n",
      "\r\n",
      "Whose other have th' enchanted will) spent sweetend below?\r\n",
      "Yet you is ourselves.\n"
     ]
    }
   ],
   "source": [
    "sample(lstm_model, \"Far west, beyond the ocean, there is a land\")"
   ]
  },
  {
   "cell_type": "markdown",
   "id": "4e3f8a29",
   "metadata": {
    "papermill": {
     "duration": 0.020899,
     "end_time": "2023-07-29T11:32:25.377099",
     "exception": false,
     "start_time": "2023-07-29T11:32:25.356200",
     "status": "completed"
    },
    "tags": []
   },
   "source": [
    "##### Sample using Transformer Model"
   ]
  },
  {
   "cell_type": "code",
   "execution_count": 35,
   "id": "4081214c",
   "metadata": {
    "execution": {
     "iopub.execute_input": "2023-07-29T11:32:25.421323Z",
     "iopub.status.busy": "2023-07-29T11:32:25.420900Z",
     "iopub.status.idle": "2023-07-29T11:32:30.237618Z",
     "shell.execute_reply": "2023-07-29T11:32:30.236647Z"
    },
    "papermill": {
     "duration": 4.84215,
     "end_time": "2023-07-29T11:32:30.240827",
     "exception": false,
     "start_time": "2023-07-29T11:32:25.398677",
     "status": "completed"
    },
    "tags": []
   },
   "outputs": [
    {
     "name": "stdout",
     "output_type": "stream",
     "text": [
      "Far west, beyond the ocean, there is a land-.\r\n",
      "Their she your cryingd:aide summer smold-Mary;\r\n",
      "His face, lead a may.\r\n",
      "To all friends in fresh, his early knighthood!\" from your skies,\r\n",
      "And all-head,\r\n",
      "Stella, in clear relations heres which no suchaporous eaves,\r\n",
      "But as he, his beard and faithful love's eye,\r\n",
      "Athaca, as come and heavy bale, his lovely face paleth.\r\n",
      "His death and me with them to the signs his coming,\r\n",
      "And ready, and the me the world in loves,\r\n",
      "That tree\r\n",
      "That first years, and now mine own sacrifice a school boys and in the firm soil hath taught his good;\r\n",
      "I could agree;\r\n",
      "That men desire is gain come out where a spirit,\r\n",
      "That away,\r\n",
      "I only hills I have tops that shall have often prov'd to the Spring, before the thing constant light,\r\n",
      "Let us still peace,\r\n",
      "Through hollow lands and the hands on that first fro. And merry Larke to the pure ivyce\r\n",
      "Her who will ye do as at his because.\r\n",
      "And thou winter to be fay\n"
     ]
    }
   ],
   "source": [
    "sample(transformer_model, \"Far west, beyond the ocean, there is a land\")"
   ]
  }
 ],
 "metadata": {
  "kernelspec": {
   "display_name": "Python 3",
   "language": "python",
   "name": "python3"
  },
  "language_info": {
   "codemirror_mode": {
    "name": "ipython",
    "version": 3
   },
   "file_extension": ".py",
   "mimetype": "text/x-python",
   "name": "python",
   "nbconvert_exporter": "python",
   "pygments_lexer": "ipython3",
   "version": "3.10.10"
  },
  "papermill": {
   "default_parameters": {},
   "duration": 536.017317,
   "end_time": "2023-07-29T11:32:33.264647",
   "environment_variables": {},
   "exception": null,
   "input_path": "__notebook__.ipynb",
   "output_path": "__notebook__.ipynb",
   "parameters": {},
   "start_time": "2023-07-29T11:23:37.247330",
   "version": "2.4.0"
  },
  "widgets": {
   "application/vnd.jupyter.widget-state+json": {
    "state": {
     "005657028ff94f2fa911fd2027e272ed": {
      "model_module": "@jupyter-widgets/base",
      "model_module_version": "1.2.0",
      "model_name": "LayoutModel",
      "state": {
       "_model_module": "@jupyter-widgets/base",
       "_model_module_version": "1.2.0",
       "_model_name": "LayoutModel",
       "_view_count": null,
       "_view_module": "@jupyter-widgets/base",
       "_view_module_version": "1.2.0",
       "_view_name": "LayoutView",
       "align_content": null,
       "align_items": null,
       "align_self": null,
       "border": null,
       "bottom": null,
       "display": null,
       "flex": null,
       "flex_flow": null,
       "grid_area": null,
       "grid_auto_columns": null,
       "grid_auto_flow": null,
       "grid_auto_rows": null,
       "grid_column": null,
       "grid_gap": null,
       "grid_row": null,
       "grid_template_areas": null,
       "grid_template_columns": null,
       "grid_template_rows": null,
       "height": null,
       "justify_content": null,
       "justify_items": null,
       "left": null,
       "margin": null,
       "max_height": null,
       "max_width": null,
       "min_height": null,
       "min_width": null,
       "object_fit": null,
       "object_position": null,
       "order": null,
       "overflow": null,
       "overflow_x": null,
       "overflow_y": null,
       "padding": null,
       "right": null,
       "top": null,
       "visibility": null,
       "width": null
      }
     },
     "068bab7307c441feae19744d39d8940c": {
      "model_module": "@jupyter-widgets/controls",
      "model_module_version": "1.5.0",
      "model_name": "DescriptionStyleModel",
      "state": {
       "_model_module": "@jupyter-widgets/controls",
       "_model_module_version": "1.5.0",
       "_model_name": "DescriptionStyleModel",
       "_view_count": null,
       "_view_module": "@jupyter-widgets/base",
       "_view_module_version": "1.2.0",
       "_view_name": "StyleView",
       "description_width": ""
      }
     },
     "10ad073e1b824f3189ae39a59af97cd2": {
      "model_module": "@jupyter-widgets/base",
      "model_module_version": "1.2.0",
      "model_name": "LayoutModel",
      "state": {
       "_model_module": "@jupyter-widgets/base",
       "_model_module_version": "1.2.0",
       "_model_name": "LayoutModel",
       "_view_count": null,
       "_view_module": "@jupyter-widgets/base",
       "_view_module_version": "1.2.0",
       "_view_name": "LayoutView",
       "align_content": null,
       "align_items": null,
       "align_self": null,
       "border": null,
       "bottom": null,
       "display": null,
       "flex": null,
       "flex_flow": null,
       "grid_area": null,
       "grid_auto_columns": null,
       "grid_auto_flow": null,
       "grid_auto_rows": null,
       "grid_column": null,
       "grid_gap": null,
       "grid_row": null,
       "grid_template_areas": null,
       "grid_template_columns": null,
       "grid_template_rows": null,
       "height": null,
       "justify_content": null,
       "justify_items": null,
       "left": null,
       "margin": null,
       "max_height": null,
       "max_width": null,
       "min_height": null,
       "min_width": null,
       "object_fit": null,
       "object_position": null,
       "order": null,
       "overflow": null,
       "overflow_x": null,
       "overflow_y": null,
       "padding": null,
       "right": null,
       "top": null,
       "visibility": null,
       "width": null
      }
     },
     "12c834d9ec4e4fb9bd0568359fc91e30": {
      "model_module": "@jupyter-widgets/base",
      "model_module_version": "1.2.0",
      "model_name": "LayoutModel",
      "state": {
       "_model_module": "@jupyter-widgets/base",
       "_model_module_version": "1.2.0",
       "_model_name": "LayoutModel",
       "_view_count": null,
       "_view_module": "@jupyter-widgets/base",
       "_view_module_version": "1.2.0",
       "_view_name": "LayoutView",
       "align_content": null,
       "align_items": null,
       "align_self": null,
       "border": null,
       "bottom": null,
       "display": null,
       "flex": null,
       "flex_flow": null,
       "grid_area": null,
       "grid_auto_columns": null,
       "grid_auto_flow": null,
       "grid_auto_rows": null,
       "grid_column": null,
       "grid_gap": null,
       "grid_row": null,
       "grid_template_areas": null,
       "grid_template_columns": null,
       "grid_template_rows": null,
       "height": null,
       "justify_content": null,
       "justify_items": null,
       "left": null,
       "margin": null,
       "max_height": null,
       "max_width": null,
       "min_height": null,
       "min_width": null,
       "object_fit": null,
       "object_position": null,
       "order": null,
       "overflow": null,
       "overflow_x": null,
       "overflow_y": null,
       "padding": null,
       "right": null,
       "top": null,
       "visibility": null,
       "width": null
      }
     },
     "16eced6dac604185bfe2d5567fad7fcb": {
      "model_module": "@jupyter-widgets/controls",
      "model_module_version": "1.5.0",
      "model_name": "ProgressStyleModel",
      "state": {
       "_model_module": "@jupyter-widgets/controls",
       "_model_module_version": "1.5.0",
       "_model_name": "ProgressStyleModel",
       "_view_count": null,
       "_view_module": "@jupyter-widgets/base",
       "_view_module_version": "1.2.0",
       "_view_name": "StyleView",
       "bar_color": null,
       "description_width": ""
      }
     },
     "19fd436f89964e62ab139f2ed05634a4": {
      "model_module": "@jupyter-widgets/base",
      "model_module_version": "1.2.0",
      "model_name": "LayoutModel",
      "state": {
       "_model_module": "@jupyter-widgets/base",
       "_model_module_version": "1.2.0",
       "_model_name": "LayoutModel",
       "_view_count": null,
       "_view_module": "@jupyter-widgets/base",
       "_view_module_version": "1.2.0",
       "_view_name": "LayoutView",
       "align_content": null,
       "align_items": null,
       "align_self": null,
       "border": null,
       "bottom": null,
       "display": null,
       "flex": null,
       "flex_flow": null,
       "grid_area": null,
       "grid_auto_columns": null,
       "grid_auto_flow": null,
       "grid_auto_rows": null,
       "grid_column": null,
       "grid_gap": null,
       "grid_row": null,
       "grid_template_areas": null,
       "grid_template_columns": null,
       "grid_template_rows": null,
       "height": null,
       "justify_content": null,
       "justify_items": null,
       "left": null,
       "margin": null,
       "max_height": null,
       "max_width": null,
       "min_height": null,
       "min_width": null,
       "object_fit": null,
       "object_position": null,
       "order": null,
       "overflow": null,
       "overflow_x": null,
       "overflow_y": null,
       "padding": null,
       "right": null,
       "top": null,
       "visibility": null,
       "width": null
      }
     },
     "1fea5d9eb8d54c8ba80a522c2a50e8d5": {
      "model_module": "@jupyter-widgets/controls",
      "model_module_version": "1.5.0",
      "model_name": "DescriptionStyleModel",
      "state": {
       "_model_module": "@jupyter-widgets/controls",
       "_model_module_version": "1.5.0",
       "_model_name": "DescriptionStyleModel",
       "_view_count": null,
       "_view_module": "@jupyter-widgets/base",
       "_view_module_version": "1.2.0",
       "_view_name": "StyleView",
       "description_width": ""
      }
     },
     "36575d61b1d643cb9773b5de873d114d": {
      "model_module": "@jupyter-widgets/controls",
      "model_module_version": "1.5.0",
      "model_name": "DescriptionStyleModel",
      "state": {
       "_model_module": "@jupyter-widgets/controls",
       "_model_module_version": "1.5.0",
       "_model_name": "DescriptionStyleModel",
       "_view_count": null,
       "_view_module": "@jupyter-widgets/base",
       "_view_module_version": "1.2.0",
       "_view_name": "StyleView",
       "description_width": ""
      }
     },
     "38cb7a1c4cdb4b7bb88b05d710c98c18": {
      "model_module": "@jupyter-widgets/controls",
      "model_module_version": "1.5.0",
      "model_name": "HTMLModel",
      "state": {
       "_dom_classes": [],
       "_model_module": "@jupyter-widgets/controls",
       "_model_module_version": "1.5.0",
       "_model_name": "HTMLModel",
       "_view_count": null,
       "_view_module": "@jupyter-widgets/controls",
       "_view_module_version": "1.5.0",
       "_view_name": "HTMLView",
       "description": "",
       "description_tooltip": null,
       "layout": "IPY_MODEL_19fd436f89964e62ab139f2ed05634a4",
       "placeholder": "​",
       "style": "IPY_MODEL_9b20fb10699a47ebb92deb4e1e9ed0fc",
       "value": "Downloading (…)/main/tokenizer.json: 100%"
      }
     },
     "3ae606e1743c4bf69741cb56a198e605": {
      "model_module": "@jupyter-widgets/controls",
      "model_module_version": "1.5.0",
      "model_name": "DescriptionStyleModel",
      "state": {
       "_model_module": "@jupyter-widgets/controls",
       "_model_module_version": "1.5.0",
       "_model_name": "DescriptionStyleModel",
       "_view_count": null,
       "_view_module": "@jupyter-widgets/base",
       "_view_module_version": "1.2.0",
       "_view_name": "StyleView",
       "description_width": ""
      }
     },
     "40f2e04144954e2d9188a3dd99ba18a4": {
      "model_module": "@jupyter-widgets/base",
      "model_module_version": "1.2.0",
      "model_name": "LayoutModel",
      "state": {
       "_model_module": "@jupyter-widgets/base",
       "_model_module_version": "1.2.0",
       "_model_name": "LayoutModel",
       "_view_count": null,
       "_view_module": "@jupyter-widgets/base",
       "_view_module_version": "1.2.0",
       "_view_name": "LayoutView",
       "align_content": null,
       "align_items": null,
       "align_self": null,
       "border": null,
       "bottom": null,
       "display": null,
       "flex": null,
       "flex_flow": null,
       "grid_area": null,
       "grid_auto_columns": null,
       "grid_auto_flow": null,
       "grid_auto_rows": null,
       "grid_column": null,
       "grid_gap": null,
       "grid_row": null,
       "grid_template_areas": null,
       "grid_template_columns": null,
       "grid_template_rows": null,
       "height": null,
       "justify_content": null,
       "justify_items": null,
       "left": null,
       "margin": null,
       "max_height": null,
       "max_width": null,
       "min_height": null,
       "min_width": null,
       "object_fit": null,
       "object_position": null,
       "order": null,
       "overflow": null,
       "overflow_x": null,
       "overflow_y": null,
       "padding": null,
       "right": null,
       "top": null,
       "visibility": null,
       "width": null
      }
     },
     "45cc27a8d2bb47319c64db3ea4c6ce3e": {
      "model_module": "@jupyter-widgets/base",
      "model_module_version": "1.2.0",
      "model_name": "LayoutModel",
      "state": {
       "_model_module": "@jupyter-widgets/base",
       "_model_module_version": "1.2.0",
       "_model_name": "LayoutModel",
       "_view_count": null,
       "_view_module": "@jupyter-widgets/base",
       "_view_module_version": "1.2.0",
       "_view_name": "LayoutView",
       "align_content": null,
       "align_items": null,
       "align_self": null,
       "border": null,
       "bottom": null,
       "display": null,
       "flex": null,
       "flex_flow": null,
       "grid_area": null,
       "grid_auto_columns": null,
       "grid_auto_flow": null,
       "grid_auto_rows": null,
       "grid_column": null,
       "grid_gap": null,
       "grid_row": null,
       "grid_template_areas": null,
       "grid_template_columns": null,
       "grid_template_rows": null,
       "height": null,
       "justify_content": null,
       "justify_items": null,
       "left": null,
       "margin": null,
       "max_height": null,
       "max_width": null,
       "min_height": null,
       "min_width": null,
       "object_fit": null,
       "object_position": null,
       "order": null,
       "overflow": null,
       "overflow_x": null,
       "overflow_y": null,
       "padding": null,
       "right": null,
       "top": null,
       "visibility": null,
       "width": null
      }
     },
     "548fc7fbf5d04b3aa00eb1fb26fb2578": {
      "model_module": "@jupyter-widgets/controls",
      "model_module_version": "1.5.0",
      "model_name": "DescriptionStyleModel",
      "state": {
       "_model_module": "@jupyter-widgets/controls",
       "_model_module_version": "1.5.0",
       "_model_name": "DescriptionStyleModel",
       "_view_count": null,
       "_view_module": "@jupyter-widgets/base",
       "_view_module_version": "1.2.0",
       "_view_name": "StyleView",
       "description_width": ""
      }
     },
     "57c2a13fd5134069af2f80d34ff709f2": {
      "model_module": "@jupyter-widgets/base",
      "model_module_version": "1.2.0",
      "model_name": "LayoutModel",
      "state": {
       "_model_module": "@jupyter-widgets/base",
       "_model_module_version": "1.2.0",
       "_model_name": "LayoutModel",
       "_view_count": null,
       "_view_module": "@jupyter-widgets/base",
       "_view_module_version": "1.2.0",
       "_view_name": "LayoutView",
       "align_content": null,
       "align_items": null,
       "align_self": null,
       "border": null,
       "bottom": null,
       "display": null,
       "flex": null,
       "flex_flow": null,
       "grid_area": null,
       "grid_auto_columns": null,
       "grid_auto_flow": null,
       "grid_auto_rows": null,
       "grid_column": null,
       "grid_gap": null,
       "grid_row": null,
       "grid_template_areas": null,
       "grid_template_columns": null,
       "grid_template_rows": null,
       "height": null,
       "justify_content": null,
       "justify_items": null,
       "left": null,
       "margin": null,
       "max_height": null,
       "max_width": null,
       "min_height": null,
       "min_width": null,
       "object_fit": null,
       "object_position": null,
       "order": null,
       "overflow": null,
       "overflow_x": null,
       "overflow_y": null,
       "padding": null,
       "right": null,
       "top": null,
       "visibility": null,
       "width": null
      }
     },
     "63e09d5dfbba4934b8d57043a3f65d68": {
      "model_module": "@jupyter-widgets/controls",
      "model_module_version": "1.5.0",
      "model_name": "ProgressStyleModel",
      "state": {
       "_model_module": "@jupyter-widgets/controls",
       "_model_module_version": "1.5.0",
       "_model_name": "ProgressStyleModel",
       "_view_count": null,
       "_view_module": "@jupyter-widgets/base",
       "_view_module_version": "1.2.0",
       "_view_name": "StyleView",
       "bar_color": null,
       "description_width": ""
      }
     },
     "6cdd0799eed5489eac3394fbf6db29d5": {
      "model_module": "@jupyter-widgets/controls",
      "model_module_version": "1.5.0",
      "model_name": "HTMLModel",
      "state": {
       "_dom_classes": [],
       "_model_module": "@jupyter-widgets/controls",
       "_model_module_version": "1.5.0",
       "_model_name": "HTMLModel",
       "_view_count": null,
       "_view_module": "@jupyter-widgets/controls",
       "_view_module_version": "1.5.0",
       "_view_name": "HTMLView",
       "description": "",
       "description_tooltip": null,
       "layout": "IPY_MODEL_10ad073e1b824f3189ae39a59af97cd2",
       "placeholder": "​",
       "style": "IPY_MODEL_1fea5d9eb8d54c8ba80a522c2a50e8d5",
       "value": "Downloading (…)olve/main/merges.txt: 100%"
      }
     },
     "6fe4db7318c9473a9018d4f5e771fa6d": {
      "model_module": "@jupyter-widgets/base",
      "model_module_version": "1.2.0",
      "model_name": "LayoutModel",
      "state": {
       "_model_module": "@jupyter-widgets/base",
       "_model_module_version": "1.2.0",
       "_model_name": "LayoutModel",
       "_view_count": null,
       "_view_module": "@jupyter-widgets/base",
       "_view_module_version": "1.2.0",
       "_view_name": "LayoutView",
       "align_content": null,
       "align_items": null,
       "align_self": null,
       "border": null,
       "bottom": null,
       "display": null,
       "flex": null,
       "flex_flow": null,
       "grid_area": null,
       "grid_auto_columns": null,
       "grid_auto_flow": null,
       "grid_auto_rows": null,
       "grid_column": null,
       "grid_gap": null,
       "grid_row": null,
       "grid_template_areas": null,
       "grid_template_columns": null,
       "grid_template_rows": null,
       "height": null,
       "justify_content": null,
       "justify_items": null,
       "left": null,
       "margin": null,
       "max_height": null,
       "max_width": null,
       "min_height": null,
       "min_width": null,
       "object_fit": null,
       "object_position": null,
       "order": null,
       "overflow": null,
       "overflow_x": null,
       "overflow_y": null,
       "padding": null,
       "right": null,
       "top": null,
       "visibility": null,
       "width": null
      }
     },
     "74125b52e4654d92ab3e16a0f91d8cf6": {
      "model_module": "@jupyter-widgets/controls",
      "model_module_version": "1.5.0",
      "model_name": "FloatProgressModel",
      "state": {
       "_dom_classes": [],
       "_model_module": "@jupyter-widgets/controls",
       "_model_module_version": "1.5.0",
       "_model_name": "FloatProgressModel",
       "_view_count": null,
       "_view_module": "@jupyter-widgets/controls",
       "_view_module_version": "1.5.0",
       "_view_name": "ProgressView",
       "bar_style": "success",
       "description": "",
       "description_tooltip": null,
       "layout": "IPY_MODEL_a12375f946b942eaa429e2071e2f954c",
       "max": 665.0,
       "min": 0.0,
       "orientation": "horizontal",
       "style": "IPY_MODEL_f0241c5dfdc44242af2c84cac4f51462",
       "value": 665.0
      }
     },
     "78280dd728b9443e8d54a270484849a1": {
      "model_module": "@jupyter-widgets/controls",
      "model_module_version": "1.5.0",
      "model_name": "FloatProgressModel",
      "state": {
       "_dom_classes": [],
       "_model_module": "@jupyter-widgets/controls",
       "_model_module_version": "1.5.0",
       "_model_name": "FloatProgressModel",
       "_view_count": null,
       "_view_module": "@jupyter-widgets/controls",
       "_view_module_version": "1.5.0",
       "_view_name": "ProgressView",
       "bar_style": "success",
       "description": "",
       "description_tooltip": null,
       "layout": "IPY_MODEL_db0bae6af5f0440bab72bbc59c70b483",
       "max": 1355256.0,
       "min": 0.0,
       "orientation": "horizontal",
       "style": "IPY_MODEL_16eced6dac604185bfe2d5567fad7fcb",
       "value": 1355256.0
      }
     },
     "8983ce7759f8463589afcc76c0f067b4": {
      "model_module": "@jupyter-widgets/base",
      "model_module_version": "1.2.0",
      "model_name": "LayoutModel",
      "state": {
       "_model_module": "@jupyter-widgets/base",
       "_model_module_version": "1.2.0",
       "_model_name": "LayoutModel",
       "_view_count": null,
       "_view_module": "@jupyter-widgets/base",
       "_view_module_version": "1.2.0",
       "_view_name": "LayoutView",
       "align_content": null,
       "align_items": null,
       "align_self": null,
       "border": null,
       "bottom": null,
       "display": null,
       "flex": null,
       "flex_flow": null,
       "grid_area": null,
       "grid_auto_columns": null,
       "grid_auto_flow": null,
       "grid_auto_rows": null,
       "grid_column": null,
       "grid_gap": null,
       "grid_row": null,
       "grid_template_areas": null,
       "grid_template_columns": null,
       "grid_template_rows": null,
       "height": null,
       "justify_content": null,
       "justify_items": null,
       "left": null,
       "margin": null,
       "max_height": null,
       "max_width": null,
       "min_height": null,
       "min_width": null,
       "object_fit": null,
       "object_position": null,
       "order": null,
       "overflow": null,
       "overflow_x": null,
       "overflow_y": null,
       "padding": null,
       "right": null,
       "top": null,
       "visibility": null,
       "width": null
      }
     },
     "8fe47631a6224ad0a702b17be1513059": {
      "model_module": "@jupyter-widgets/base",
      "model_module_version": "1.2.0",
      "model_name": "LayoutModel",
      "state": {
       "_model_module": "@jupyter-widgets/base",
       "_model_module_version": "1.2.0",
       "_model_name": "LayoutModel",
       "_view_count": null,
       "_view_module": "@jupyter-widgets/base",
       "_view_module_version": "1.2.0",
       "_view_name": "LayoutView",
       "align_content": null,
       "align_items": null,
       "align_self": null,
       "border": null,
       "bottom": null,
       "display": null,
       "flex": null,
       "flex_flow": null,
       "grid_area": null,
       "grid_auto_columns": null,
       "grid_auto_flow": null,
       "grid_auto_rows": null,
       "grid_column": null,
       "grid_gap": null,
       "grid_row": null,
       "grid_template_areas": null,
       "grid_template_columns": null,
       "grid_template_rows": null,
       "height": null,
       "justify_content": null,
       "justify_items": null,
       "left": null,
       "margin": null,
       "max_height": null,
       "max_width": null,
       "min_height": null,
       "min_width": null,
       "object_fit": null,
       "object_position": null,
       "order": null,
       "overflow": null,
       "overflow_x": null,
       "overflow_y": null,
       "padding": null,
       "right": null,
       "top": null,
       "visibility": null,
       "width": null
      }
     },
     "9b20fb10699a47ebb92deb4e1e9ed0fc": {
      "model_module": "@jupyter-widgets/controls",
      "model_module_version": "1.5.0",
      "model_name": "DescriptionStyleModel",
      "state": {
       "_model_module": "@jupyter-widgets/controls",
       "_model_module_version": "1.5.0",
       "_model_name": "DescriptionStyleModel",
       "_view_count": null,
       "_view_module": "@jupyter-widgets/base",
       "_view_module_version": "1.2.0",
       "_view_name": "StyleView",
       "description_width": ""
      }
     },
     "9fd6cb4adf7d40199045909510288240": {
      "model_module": "@jupyter-widgets/controls",
      "model_module_version": "1.5.0",
      "model_name": "DescriptionStyleModel",
      "state": {
       "_model_module": "@jupyter-widgets/controls",
       "_model_module_version": "1.5.0",
       "_model_name": "DescriptionStyleModel",
       "_view_count": null,
       "_view_module": "@jupyter-widgets/base",
       "_view_module_version": "1.2.0",
       "_view_name": "StyleView",
       "description_width": ""
      }
     },
     "a12375f946b942eaa429e2071e2f954c": {
      "model_module": "@jupyter-widgets/base",
      "model_module_version": "1.2.0",
      "model_name": "LayoutModel",
      "state": {
       "_model_module": "@jupyter-widgets/base",
       "_model_module_version": "1.2.0",
       "_model_name": "LayoutModel",
       "_view_count": null,
       "_view_module": "@jupyter-widgets/base",
       "_view_module_version": "1.2.0",
       "_view_name": "LayoutView",
       "align_content": null,
       "align_items": null,
       "align_self": null,
       "border": null,
       "bottom": null,
       "display": null,
       "flex": null,
       "flex_flow": null,
       "grid_area": null,
       "grid_auto_columns": null,
       "grid_auto_flow": null,
       "grid_auto_rows": null,
       "grid_column": null,
       "grid_gap": null,
       "grid_row": null,
       "grid_template_areas": null,
       "grid_template_columns": null,
       "grid_template_rows": null,
       "height": null,
       "justify_content": null,
       "justify_items": null,
       "left": null,
       "margin": null,
       "max_height": null,
       "max_width": null,
       "min_height": null,
       "min_width": null,
       "object_fit": null,
       "object_position": null,
       "order": null,
       "overflow": null,
       "overflow_x": null,
       "overflow_y": null,
       "padding": null,
       "right": null,
       "top": null,
       "visibility": null,
       "width": null
      }
     },
     "a17e650aa15b491486a3c1baad6b9d4a": {
      "model_module": "@jupyter-widgets/base",
      "model_module_version": "1.2.0",
      "model_name": "LayoutModel",
      "state": {
       "_model_module": "@jupyter-widgets/base",
       "_model_module_version": "1.2.0",
       "_model_name": "LayoutModel",
       "_view_count": null,
       "_view_module": "@jupyter-widgets/base",
       "_view_module_version": "1.2.0",
       "_view_name": "LayoutView",
       "align_content": null,
       "align_items": null,
       "align_self": null,
       "border": null,
       "bottom": null,
       "display": null,
       "flex": null,
       "flex_flow": null,
       "grid_area": null,
       "grid_auto_columns": null,
       "grid_auto_flow": null,
       "grid_auto_rows": null,
       "grid_column": null,
       "grid_gap": null,
       "grid_row": null,
       "grid_template_areas": null,
       "grid_template_columns": null,
       "grid_template_rows": null,
       "height": null,
       "justify_content": null,
       "justify_items": null,
       "left": null,
       "margin": null,
       "max_height": null,
       "max_width": null,
       "min_height": null,
       "min_width": null,
       "object_fit": null,
       "object_position": null,
       "order": null,
       "overflow": null,
       "overflow_x": null,
       "overflow_y": null,
       "padding": null,
       "right": null,
       "top": null,
       "visibility": null,
       "width": null
      }
     },
     "a3e4c42c06a54dada65266c4cf991aaa": {
      "model_module": "@jupyter-widgets/controls",
      "model_module_version": "1.5.0",
      "model_name": "HTMLModel",
      "state": {
       "_dom_classes": [],
       "_model_module": "@jupyter-widgets/controls",
       "_model_module_version": "1.5.0",
       "_model_name": "HTMLModel",
       "_view_count": null,
       "_view_module": "@jupyter-widgets/controls",
       "_view_module_version": "1.5.0",
       "_view_name": "HTMLView",
       "description": "",
       "description_tooltip": null,
       "layout": "IPY_MODEL_12c834d9ec4e4fb9bd0568359fc91e30",
       "placeholder": "​",
       "style": "IPY_MODEL_36575d61b1d643cb9773b5de873d114d",
       "value": " 1.04M/1.04M [00:00&lt;00:00, 5.57MB/s]"
      }
     },
     "a482ff7e6a1d4211999b6452304b2fc7": {
      "model_module": "@jupyter-widgets/controls",
      "model_module_version": "1.5.0",
      "model_name": "HBoxModel",
      "state": {
       "_dom_classes": [],
       "_model_module": "@jupyter-widgets/controls",
       "_model_module_version": "1.5.0",
       "_model_name": "HBoxModel",
       "_view_count": null,
       "_view_module": "@jupyter-widgets/controls",
       "_view_module_version": "1.5.0",
       "_view_name": "HBoxView",
       "box_style": "",
       "children": [
        "IPY_MODEL_f7719020732644928cfb0da41b88e22b",
        "IPY_MODEL_74125b52e4654d92ab3e16a0f91d8cf6",
        "IPY_MODEL_cfb29a73fd814535a94f774bfa669981"
       ],
       "layout": "IPY_MODEL_8983ce7759f8463589afcc76c0f067b4"
      }
     },
     "b05f74ab87544e1d81ce71c9a4475692": {
      "model_module": "@jupyter-widgets/base",
      "model_module_version": "1.2.0",
      "model_name": "LayoutModel",
      "state": {
       "_model_module": "@jupyter-widgets/base",
       "_model_module_version": "1.2.0",
       "_model_name": "LayoutModel",
       "_view_count": null,
       "_view_module": "@jupyter-widgets/base",
       "_view_module_version": "1.2.0",
       "_view_name": "LayoutView",
       "align_content": null,
       "align_items": null,
       "align_self": null,
       "border": null,
       "bottom": null,
       "display": null,
       "flex": null,
       "flex_flow": null,
       "grid_area": null,
       "grid_auto_columns": null,
       "grid_auto_flow": null,
       "grid_auto_rows": null,
       "grid_column": null,
       "grid_gap": null,
       "grid_row": null,
       "grid_template_areas": null,
       "grid_template_columns": null,
       "grid_template_rows": null,
       "height": null,
       "justify_content": null,
       "justify_items": null,
       "left": null,
       "margin": null,
       "max_height": null,
       "max_width": null,
       "min_height": null,
       "min_width": null,
       "object_fit": null,
       "object_position": null,
       "order": null,
       "overflow": null,
       "overflow_x": null,
       "overflow_y": null,
       "padding": null,
       "right": null,
       "top": null,
       "visibility": null,
       "width": null
      }
     },
     "bd2efc7a256643428ff9f1c48e74c5b9": {
      "model_module": "@jupyter-widgets/controls",
      "model_module_version": "1.5.0",
      "model_name": "ProgressStyleModel",
      "state": {
       "_model_module": "@jupyter-widgets/controls",
       "_model_module_version": "1.5.0",
       "_model_name": "ProgressStyleModel",
       "_view_count": null,
       "_view_module": "@jupyter-widgets/base",
       "_view_module_version": "1.2.0",
       "_view_name": "StyleView",
       "bar_color": null,
       "description_width": ""
      }
     },
     "bfe44302f5c54f409034abe4346d2048": {
      "model_module": "@jupyter-widgets/base",
      "model_module_version": "1.2.0",
      "model_name": "LayoutModel",
      "state": {
       "_model_module": "@jupyter-widgets/base",
       "_model_module_version": "1.2.0",
       "_model_name": "LayoutModel",
       "_view_count": null,
       "_view_module": "@jupyter-widgets/base",
       "_view_module_version": "1.2.0",
       "_view_name": "LayoutView",
       "align_content": null,
       "align_items": null,
       "align_self": null,
       "border": null,
       "bottom": null,
       "display": null,
       "flex": null,
       "flex_flow": null,
       "grid_area": null,
       "grid_auto_columns": null,
       "grid_auto_flow": null,
       "grid_auto_rows": null,
       "grid_column": null,
       "grid_gap": null,
       "grid_row": null,
       "grid_template_areas": null,
       "grid_template_columns": null,
       "grid_template_rows": null,
       "height": null,
       "justify_content": null,
       "justify_items": null,
       "left": null,
       "margin": null,
       "max_height": null,
       "max_width": null,
       "min_height": null,
       "min_width": null,
       "object_fit": null,
       "object_position": null,
       "order": null,
       "overflow": null,
       "overflow_x": null,
       "overflow_y": null,
       "padding": null,
       "right": null,
       "top": null,
       "visibility": null,
       "width": null
      }
     },
     "cfb29a73fd814535a94f774bfa669981": {
      "model_module": "@jupyter-widgets/controls",
      "model_module_version": "1.5.0",
      "model_name": "HTMLModel",
      "state": {
       "_dom_classes": [],
       "_model_module": "@jupyter-widgets/controls",
       "_model_module_version": "1.5.0",
       "_model_name": "HTMLModel",
       "_view_count": null,
       "_view_module": "@jupyter-widgets/controls",
       "_view_module_version": "1.5.0",
       "_view_name": "HTMLView",
       "description": "",
       "description_tooltip": null,
       "layout": "IPY_MODEL_a17e650aa15b491486a3c1baad6b9d4a",
       "placeholder": "​",
       "style": "IPY_MODEL_068bab7307c441feae19744d39d8940c",
       "value": " 665/665 [00:00&lt;00:00, 52.2kB/s]"
      }
     },
     "d5e19fab84c64f5e8fc949658dee19a3": {
      "model_module": "@jupyter-widgets/controls",
      "model_module_version": "1.5.0",
      "model_name": "DescriptionStyleModel",
      "state": {
       "_model_module": "@jupyter-widgets/controls",
       "_model_module_version": "1.5.0",
       "_model_name": "DescriptionStyleModel",
       "_view_count": null,
       "_view_module": "@jupyter-widgets/base",
       "_view_module_version": "1.2.0",
       "_view_name": "StyleView",
       "description_width": ""
      }
     },
     "d75335685aa243b5a75151b6ea9b707f": {
      "model_module": "@jupyter-widgets/controls",
      "model_module_version": "1.5.0",
      "model_name": "HBoxModel",
      "state": {
       "_dom_classes": [],
       "_model_module": "@jupyter-widgets/controls",
       "_model_module_version": "1.5.0",
       "_model_name": "HBoxModel",
       "_view_count": null,
       "_view_module": "@jupyter-widgets/controls",
       "_view_module_version": "1.5.0",
       "_view_name": "HBoxView",
       "box_style": "",
       "children": [
        "IPY_MODEL_6cdd0799eed5489eac3394fbf6db29d5",
        "IPY_MODEL_deeccceff1c740039bb0567c2b13ac89",
        "IPY_MODEL_fff0efc1fe02423a8c8227005c84c4db"
       ],
       "layout": "IPY_MODEL_005657028ff94f2fa911fd2027e272ed"
      }
     },
     "da4519eec49c43eeba631fc841f03e3d": {
      "model_module": "@jupyter-widgets/controls",
      "model_module_version": "1.5.0",
      "model_name": "HBoxModel",
      "state": {
       "_dom_classes": [],
       "_model_module": "@jupyter-widgets/controls",
       "_model_module_version": "1.5.0",
       "_model_name": "HBoxModel",
       "_view_count": null,
       "_view_module": "@jupyter-widgets/controls",
       "_view_module_version": "1.5.0",
       "_view_name": "HBoxView",
       "box_style": "",
       "children": [
        "IPY_MODEL_ea94072d243d4ac2aa2913eebb14c643",
        "IPY_MODEL_ef6630cb6339452cbd8b42a27aabdb4b",
        "IPY_MODEL_a3e4c42c06a54dada65266c4cf991aaa"
       ],
       "layout": "IPY_MODEL_6fe4db7318c9473a9018d4f5e771fa6d"
      }
     },
     "db0bae6af5f0440bab72bbc59c70b483": {
      "model_module": "@jupyter-widgets/base",
      "model_module_version": "1.2.0",
      "model_name": "LayoutModel",
      "state": {
       "_model_module": "@jupyter-widgets/base",
       "_model_module_version": "1.2.0",
       "_model_name": "LayoutModel",
       "_view_count": null,
       "_view_module": "@jupyter-widgets/base",
       "_view_module_version": "1.2.0",
       "_view_name": "LayoutView",
       "align_content": null,
       "align_items": null,
       "align_self": null,
       "border": null,
       "bottom": null,
       "display": null,
       "flex": null,
       "flex_flow": null,
       "grid_area": null,
       "grid_auto_columns": null,
       "grid_auto_flow": null,
       "grid_auto_rows": null,
       "grid_column": null,
       "grid_gap": null,
       "grid_row": null,
       "grid_template_areas": null,
       "grid_template_columns": null,
       "grid_template_rows": null,
       "height": null,
       "justify_content": null,
       "justify_items": null,
       "left": null,
       "margin": null,
       "max_height": null,
       "max_width": null,
       "min_height": null,
       "min_width": null,
       "object_fit": null,
       "object_position": null,
       "order": null,
       "overflow": null,
       "overflow_x": null,
       "overflow_y": null,
       "padding": null,
       "right": null,
       "top": null,
       "visibility": null,
       "width": null
      }
     },
     "dde3e6be66bf4220b7141f9691dd1512": {
      "model_module": "@jupyter-widgets/base",
      "model_module_version": "1.2.0",
      "model_name": "LayoutModel",
      "state": {
       "_model_module": "@jupyter-widgets/base",
       "_model_module_version": "1.2.0",
       "_model_name": "LayoutModel",
       "_view_count": null,
       "_view_module": "@jupyter-widgets/base",
       "_view_module_version": "1.2.0",
       "_view_name": "LayoutView",
       "align_content": null,
       "align_items": null,
       "align_self": null,
       "border": null,
       "bottom": null,
       "display": null,
       "flex": null,
       "flex_flow": null,
       "grid_area": null,
       "grid_auto_columns": null,
       "grid_auto_flow": null,
       "grid_auto_rows": null,
       "grid_column": null,
       "grid_gap": null,
       "grid_row": null,
       "grid_template_areas": null,
       "grid_template_columns": null,
       "grid_template_rows": null,
       "height": null,
       "justify_content": null,
       "justify_items": null,
       "left": null,
       "margin": null,
       "max_height": null,
       "max_width": null,
       "min_height": null,
       "min_width": null,
       "object_fit": null,
       "object_position": null,
       "order": null,
       "overflow": null,
       "overflow_x": null,
       "overflow_y": null,
       "padding": null,
       "right": null,
       "top": null,
       "visibility": null,
       "width": null
      }
     },
     "deeccceff1c740039bb0567c2b13ac89": {
      "model_module": "@jupyter-widgets/controls",
      "model_module_version": "1.5.0",
      "model_name": "FloatProgressModel",
      "state": {
       "_dom_classes": [],
       "_model_module": "@jupyter-widgets/controls",
       "_model_module_version": "1.5.0",
       "_model_name": "FloatProgressModel",
       "_view_count": null,
       "_view_module": "@jupyter-widgets/controls",
       "_view_module_version": "1.5.0",
       "_view_name": "ProgressView",
       "bar_style": "success",
       "description": "",
       "description_tooltip": null,
       "layout": "IPY_MODEL_dde3e6be66bf4220b7141f9691dd1512",
       "max": 456318.0,
       "min": 0.0,
       "orientation": "horizontal",
       "style": "IPY_MODEL_bd2efc7a256643428ff9f1c48e74c5b9",
       "value": 456318.0
      }
     },
     "dfef8733b3664e6eabc3e6622c505857": {
      "model_module": "@jupyter-widgets/controls",
      "model_module_version": "1.5.0",
      "model_name": "HBoxModel",
      "state": {
       "_dom_classes": [],
       "_model_module": "@jupyter-widgets/controls",
       "_model_module_version": "1.5.0",
       "_model_name": "HBoxModel",
       "_view_count": null,
       "_view_module": "@jupyter-widgets/controls",
       "_view_module_version": "1.5.0",
       "_view_name": "HBoxView",
       "box_style": "",
       "children": [
        "IPY_MODEL_38cb7a1c4cdb4b7bb88b05d710c98c18",
        "IPY_MODEL_78280dd728b9443e8d54a270484849a1",
        "IPY_MODEL_e7502635845e4052ac8029b683d177db"
       ],
       "layout": "IPY_MODEL_45cc27a8d2bb47319c64db3ea4c6ce3e"
      }
     },
     "e7502635845e4052ac8029b683d177db": {
      "model_module": "@jupyter-widgets/controls",
      "model_module_version": "1.5.0",
      "model_name": "HTMLModel",
      "state": {
       "_dom_classes": [],
       "_model_module": "@jupyter-widgets/controls",
       "_model_module_version": "1.5.0",
       "_model_name": "HTMLModel",
       "_view_count": null,
       "_view_module": "@jupyter-widgets/controls",
       "_view_module_version": "1.5.0",
       "_view_name": "HTMLView",
       "description": "",
       "description_tooltip": null,
       "layout": "IPY_MODEL_b05f74ab87544e1d81ce71c9a4475692",
       "placeholder": "​",
       "style": "IPY_MODEL_3ae606e1743c4bf69741cb56a198e605",
       "value": " 1.36M/1.36M [00:00&lt;00:00, 5.40MB/s]"
      }
     },
     "ea94072d243d4ac2aa2913eebb14c643": {
      "model_module": "@jupyter-widgets/controls",
      "model_module_version": "1.5.0",
      "model_name": "HTMLModel",
      "state": {
       "_dom_classes": [],
       "_model_module": "@jupyter-widgets/controls",
       "_model_module_version": "1.5.0",
       "_model_name": "HTMLModel",
       "_view_count": null,
       "_view_module": "@jupyter-widgets/controls",
       "_view_module_version": "1.5.0",
       "_view_name": "HTMLView",
       "description": "",
       "description_tooltip": null,
       "layout": "IPY_MODEL_40f2e04144954e2d9188a3dd99ba18a4",
       "placeholder": "​",
       "style": "IPY_MODEL_9fd6cb4adf7d40199045909510288240",
       "value": "Downloading (…)olve/main/vocab.json: 100%"
      }
     },
     "ef6630cb6339452cbd8b42a27aabdb4b": {
      "model_module": "@jupyter-widgets/controls",
      "model_module_version": "1.5.0",
      "model_name": "FloatProgressModel",
      "state": {
       "_dom_classes": [],
       "_model_module": "@jupyter-widgets/controls",
       "_model_module_version": "1.5.0",
       "_model_name": "FloatProgressModel",
       "_view_count": null,
       "_view_module": "@jupyter-widgets/controls",
       "_view_module_version": "1.5.0",
       "_view_name": "ProgressView",
       "bar_style": "success",
       "description": "",
       "description_tooltip": null,
       "layout": "IPY_MODEL_bfe44302f5c54f409034abe4346d2048",
       "max": 1042301.0,
       "min": 0.0,
       "orientation": "horizontal",
       "style": "IPY_MODEL_63e09d5dfbba4934b8d57043a3f65d68",
       "value": 1042301.0
      }
     },
     "f0241c5dfdc44242af2c84cac4f51462": {
      "model_module": "@jupyter-widgets/controls",
      "model_module_version": "1.5.0",
      "model_name": "ProgressStyleModel",
      "state": {
       "_model_module": "@jupyter-widgets/controls",
       "_model_module_version": "1.5.0",
       "_model_name": "ProgressStyleModel",
       "_view_count": null,
       "_view_module": "@jupyter-widgets/base",
       "_view_module_version": "1.2.0",
       "_view_name": "StyleView",
       "bar_color": null,
       "description_width": ""
      }
     },
     "f7719020732644928cfb0da41b88e22b": {
      "model_module": "@jupyter-widgets/controls",
      "model_module_version": "1.5.0",
      "model_name": "HTMLModel",
      "state": {
       "_dom_classes": [],
       "_model_module": "@jupyter-widgets/controls",
       "_model_module_version": "1.5.0",
       "_model_name": "HTMLModel",
       "_view_count": null,
       "_view_module": "@jupyter-widgets/controls",
       "_view_module_version": "1.5.0",
       "_view_name": "HTMLView",
       "description": "",
       "description_tooltip": null,
       "layout": "IPY_MODEL_8fe47631a6224ad0a702b17be1513059",
       "placeholder": "​",
       "style": "IPY_MODEL_548fc7fbf5d04b3aa00eb1fb26fb2578",
       "value": "Downloading (…)lve/main/config.json: 100%"
      }
     },
     "fff0efc1fe02423a8c8227005c84c4db": {
      "model_module": "@jupyter-widgets/controls",
      "model_module_version": "1.5.0",
      "model_name": "HTMLModel",
      "state": {
       "_dom_classes": [],
       "_model_module": "@jupyter-widgets/controls",
       "_model_module_version": "1.5.0",
       "_model_name": "HTMLModel",
       "_view_count": null,
       "_view_module": "@jupyter-widgets/controls",
       "_view_module_version": "1.5.0",
       "_view_name": "HTMLView",
       "description": "",
       "description_tooltip": null,
       "layout": "IPY_MODEL_57c2a13fd5134069af2f80d34ff709f2",
       "placeholder": "​",
       "style": "IPY_MODEL_d5e19fab84c64f5e8fc949658dee19a3",
       "value": " 456k/456k [00:00&lt;00:00, 31.4MB/s]"
      }
     }
    },
    "version_major": 2,
    "version_minor": 0
   }
  }
 },
 "nbformat": 4,
 "nbformat_minor": 5
}
